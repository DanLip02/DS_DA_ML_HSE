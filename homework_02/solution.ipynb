{
 "cells": [
  {
   "cell_type": "code",
   "execution_count": 1,
   "id": "5bdbfa0c-2fef-4783-9b4b-e25f1cc42599",
   "metadata": {},
   "outputs": [],
   "source": [
    "import pandas as pd\n",
    "import numpy as np\n",
    "from sklearn import metrics"
   ]
  },
  {
   "cell_type": "markdown",
   "id": "71ff8d2f-eaa4-4801-aa69-2b39b8868b5b",
   "metadata": {},
   "source": [
    "Скачаем дата-сет"
   ]
  },
  {
   "cell_type": "code",
   "execution_count": 3,
   "id": "cdd71ce5-0781-4f36-8e60-22cba95597aa",
   "metadata": {},
   "outputs": [],
   "source": [
    "from sklearn.datasets import load_breast_cancer\n",
    "data = load_breast_cancer()"
   ]
  },
  {
   "cell_type": "code",
   "execution_count": 4,
   "id": "01e1077b-da53-4fae-9711-44162134c412",
   "metadata": {},
   "outputs": [
    {
     "data": {
      "text/plain": [
       "(569, 30)"
      ]
     },
     "execution_count": 4,
     "metadata": {},
     "output_type": "execute_result"
    }
   ],
   "source": [
    "X, y = data['data'], data['target']\n",
    "X.shape"
   ]
  },
  {
   "cell_type": "markdown",
   "id": "84551858-6af1-4e76-945a-c4eae0f1be3a",
   "metadata": {},
   "source": [
    "Разобьем на тренировочные и тестовые выборки и рассмотрим базовую реализацию из scikit-learn"
   ]
  },
  {
   "cell_type": "code",
   "execution_count": 6,
   "id": "95160b88-a8a4-4400-bcf8-758426480c69",
   "metadata": {},
   "outputs": [
    {
     "data": {
      "text/plain": [
       "array([0, 0, 1, 0, 0, 0, 1, 1, 1, 1, 1, 1, 1, 1, 1, 0, 1, 0, 1, 1, 0, 1,\n",
       "       0, 1, 0, 1, 0, 1, 1, 1, 0, 1, 1, 1, 1, 1, 1, 1, 0, 0, 1, 0, 1, 1,\n",
       "       0, 0, 1, 1, 1, 1, 0, 1, 1, 0, 1, 1, 1, 1, 1, 1, 1, 1, 0, 0, 1, 1,\n",
       "       1, 1, 1, 1, 0, 1, 1, 1, 0, 0, 1, 0, 0, 1, 1, 1, 1, 0, 1, 1, 1, 0,\n",
       "       1, 1, 0, 0, 1, 1, 0, 1, 1, 1, 0, 1, 0, 1, 1, 0, 0, 1, 1, 1, 1, 1,\n",
       "       1, 1, 0, 0, 1, 1, 1, 1, 1, 0, 1, 1, 1, 1, 1, 1, 1, 1, 1, 0, 1, 1,\n",
       "       1, 0, 1, 1, 1, 1, 0, 1, 1, 0, 1])"
      ]
     },
     "execution_count": 6,
     "metadata": {},
     "output_type": "execute_result"
    }
   ],
   "source": [
    "from sklearn.model_selection import train_test_split\n",
    "from sklearn.preprocessing import StandardScaler\n",
    "X_train, X_test, y_train, y_test = train_test_split(X, y, test_size=0.25, shuffle=True)\n",
    "from sklearn.neighbors import KNeighborsClassifier\n",
    "model = KNeighborsClassifier(n_neighbors=3)\n",
    "model.fit(X_train, y_train)\n",
    "KNeighborsClassifier(n_neighbors=3)\n",
    "preds = model.predict(X_test)\n",
    "preds"
   ]
  },
  {
   "cell_type": "markdown",
   "id": "4a36c8c1-d62e-454d-ad89-deb5fd80a62c",
   "metadata": {},
   "source": [
    "F1-score равен:"
   ]
  },
  {
   "cell_type": "code",
   "execution_count": 8,
   "id": "acbb9b20-70ce-43ac-a4fa-5e71703c5b9e",
   "metadata": {},
   "outputs": [
    {
     "data": {
      "text/plain": [
       "0.9591836734693878"
      ]
     },
     "execution_count": 8,
     "metadata": {},
     "output_type": "execute_result"
    }
   ],
   "source": [
    "metrics.f1_score(y_test, preds)"
   ]
  },
  {
   "cell_type": "markdown",
   "id": "fc7d9a1b-163a-48b9-bd70-43ed5facb7bd",
   "metadata": {},
   "source": [
    "Возьмем реализвцию KNN из семинара и добавим новые метрики (https://habr.com/ru/articles/801885/) "
   ]
  },
  {
   "cell_type": "code",
   "execution_count": 15,
   "id": "4f2e77b5-885a-47c5-9192-38d480217f0b",
   "metadata": {},
   "outputs": [],
   "source": [
    "from sklearn.preprocessing import StandardScaler\n",
    "class KNN:\n",
    "    def __init__(self, k, type) -> None:\n",
    "        self.k = k\n",
    "        self.type = type\n",
    "        self.scaler = StandardScaler()\n",
    "\n",
    "    def fit(self, X_train, y_train):\n",
    "        self.scaler.fit(X_train)\n",
    "        self.X_train = self.scaler.transform(X_train)\n",
    "        self.y_train = y_train\n",
    "\n",
    "    def euclidian_distance(self, a, b):\n",
    "        return np.sqrt(((a - b)**2).sum())\n",
    "    \n",
    "    def manhattan_distance(self, a, b):\n",
    "        return (abs(a - b).sum())\n",
    "\n",
    "    def cosine_distance(self, a, b):\n",
    "        return 1 - ((a * b).sum() / (np.sqrt(((a)**2).sum()) * np.sqrt(((b)**2).sum())))\n",
    "    \n",
    "    def predict(self, X_test):\n",
    "\n",
    "        transformed_X_test = self.scaler.transform(X_test)\n",
    "        \n",
    "        distance_matrix = np.zeros((X_test.shape[0], X_train.shape[0]))\n",
    "\n",
    "        if self.type == 'euclid':\n",
    "            for i in range(len(X_test)):\n",
    "                for j in range(len(self.X_train)):\n",
    "                    distance_matrix[i][j] = self.euclidian_distance(transformed_X_test[i], self.X_train[j])\n",
    "                    \n",
    "        elif self.type == 'manhattan':\n",
    "            for i in range(len(X_test)):\n",
    "                for j in range(len(self.X_train)):\n",
    "                    distance_matrix[i][j] = self.manhattan_distance(transformed_X_test[i], self.X_train[j])\n",
    "\n",
    "        else:\n",
    "            for i in range(len(X_test)):\n",
    "                for j in range(len(self.X_train)):\n",
    "                    distance_matrix[i][j] = self.cosine_distance(transformed_X_test[i], self.X_train[j])\n",
    "        \n",
    "        idx_matrix = np.argsort(distance_matrix, axis=1)[:, :self.k]\n",
    "        y_pred_initial = self.y_train[idx_matrix]\n",
    "        y_pred = (y_pred_initial.mean(axis=1)>=0.5).astype(int)\n",
    "\n",
    "        return y_pred"
   ]
  },
  {
   "cell_type": "code",
   "execution_count": 17,
   "id": "6d577eab-be90-4f12-83ad-c30f3ec1f71c",
   "metadata": {},
   "outputs": [
    {
     "data": {
      "text/plain": [
       "0.9637305699481866"
      ]
     },
     "execution_count": 17,
     "metadata": {},
     "output_type": "execute_result"
    }
   ],
   "source": [
    "knn = KNN(3, 'euclid')\n",
    "knn.fit(X_train, y_train)\n",
    "knn.predict(X_test)\n",
    "metrics.f1_score(y_test, knn.predict(X_test))"
   ]
  },
  {
   "cell_type": "markdown",
   "id": "b58e7a8b-6a23-4df7-8377-2fa023cdfd7a",
   "metadata": {},
   "source": [
    "Сравним с реализацией готового решения, подставляя в KNeighborsClassifier метрики P.S. интересует значения F1-score"
   ]
  },
  {
   "cell_type": "code",
   "execution_count": 30,
   "id": "859cbf27-afca-4743-8452-4cf640d2c627",
   "metadata": {},
   "outputs": [
    {
     "data": {
      "text/plain": [
       "0.9456521739130435"
      ]
     },
     "execution_count": 30,
     "metadata": {},
     "output_type": "execute_result"
    }
   ],
   "source": [
    "X_train, X_test, y_train, y_test = train_test_split(X, y, test_size=0.25, shuffle=True)\n",
    "from sklearn.neighbors import KNeighborsClassifier\n",
    "model = KNeighborsClassifier(n_neighbors=3, metric='euclidean')\n",
    "model.fit(X_train, y_train)\n",
    "KNeighborsClassifier(n_neighbors=3)\n",
    "preds = model.predict(X_test)\n",
    "metrics.f1_score(y_test, preds)"
   ]
  },
  {
   "cell_type": "code",
   "execution_count": 24,
   "id": "5d6eb4dc-0fe2-42a1-b1f1-ca3ba7282fb3",
   "metadata": {},
   "outputs": [
    {
     "data": {
      "text/plain": [
       "0.978021978021978"
      ]
     },
     "execution_count": 24,
     "metadata": {},
     "output_type": "execute_result"
    }
   ],
   "source": [
    "knn = KNN(3, type='euclidean')\n",
    "knn.fit(X_train, y_train)\n",
    "knn.predict(X_test)\n",
    "metrics.f1_score(y_test, knn.predict(X_test))"
   ]
  },
  {
   "cell_type": "markdown",
   "id": "b5d875e4-d47e-4be9-8e65-a3d2621ea567",
   "metadata": {},
   "source": [
    "Аналогично проверим для других мтерик"
   ]
  },
  {
   "cell_type": "code",
   "execution_count": 36,
   "id": "9eb47c70-ce0d-4b10-b348-a3ca42bfb40e",
   "metadata": {},
   "outputs": [
    {
     "data": {
      "text/plain": [
       "0.937142857142857"
      ]
     },
     "execution_count": 36,
     "metadata": {},
     "output_type": "execute_result"
    }
   ],
   "source": [
    "model = KNeighborsClassifier(n_neighbors=3, metric='manhattan')\n",
    "model.fit(X_train, y_train)\n",
    "KNeighborsClassifier(n_neighbors=3)\n",
    "preds = model.predict(X_test)\n",
    "metrics.f1_score(y_test, preds)"
   ]
  },
  {
   "cell_type": "code",
   "execution_count": 38,
   "id": "b2900ce7-2f0d-4500-8b2c-83de1f410191",
   "metadata": {},
   "outputs": [
    {
     "data": {
      "text/plain": [
       "0.9704142011834319"
      ]
     },
     "execution_count": 38,
     "metadata": {},
     "output_type": "execute_result"
    }
   ],
   "source": [
    "knn = KNN(3, type='manhattan')\n",
    "knn.fit(X_train, y_train)\n",
    "knn.predict(X_test)\n",
    "metrics.f1_score(y_test, knn.predict(X_test))"
   ]
  },
  {
   "cell_type": "code",
   "execution_count": 42,
   "id": "fc4791fc-bc41-47c0-9b60-3d0cd5524594",
   "metadata": {},
   "outputs": [
    {
     "data": {
      "text/plain": [
       "0.9479768786127167"
      ]
     },
     "execution_count": 42,
     "metadata": {},
     "output_type": "execute_result"
    }
   ],
   "source": [
    "model = KNeighborsClassifier(n_neighbors=3, metric='cosine')\n",
    "model.fit(X_train, y_train)\n",
    "KNeighborsClassifier(n_neighbors=3)\n",
    "preds = model.predict(X_test)\n",
    "metrics.f1_score(y_test, preds)"
   ]
  },
  {
   "cell_type": "code",
   "execution_count": 44,
   "id": "f0951998-a61b-4081-a691-7007ac2db0ef",
   "metadata": {},
   "outputs": [
    {
     "data": {
      "text/plain": [
       "0.970059880239521"
      ]
     },
     "execution_count": 44,
     "metadata": {},
     "output_type": "execute_result"
    }
   ],
   "source": [
    "knn = KNN(3, type='cosine')\n",
    "knn.fit(X_train, y_train)\n",
    "knn.predict(X_test)\n",
    "metrics.f1_score(y_test, knn.predict(X_test))"
   ]
  },
  {
   "cell_type": "markdown",
   "id": "af7975e5-337f-4aa6-bb00-e6b058842dd2",
   "metadata": {},
   "source": [
    "Вывод: Значения скора сошлись, реализация метрик на одном и том же дата-сете дали аналогичные значения"
   ]
  },
  {
   "cell_type": "code",
   "execution_count": null,
   "id": "cf148324-f87b-4bed-8e5e-3cd917829de9",
   "metadata": {},
   "outputs": [],
   "source": []
  }
 ],
 "metadata": {
  "kernelspec": {
   "display_name": "Python 3 (ipykernel)",
   "language": "python",
   "name": "python3"
  },
  "language_info": {
   "codemirror_mode": {
    "name": "ipython",
    "version": 3
   },
   "file_extension": ".py",
   "mimetype": "text/x-python",
   "name": "python",
   "nbconvert_exporter": "python",
   "pygments_lexer": "ipython3",
   "version": "3.11.7"
  }
 },
 "nbformat": 4,
 "nbformat_minor": 5
}
