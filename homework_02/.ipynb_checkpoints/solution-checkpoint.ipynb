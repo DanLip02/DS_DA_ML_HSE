{
 "cells": [
  {
   "cell_type": "code",
   "execution_count": 1,
   "id": "5bdbfa0c-2fef-4783-9b4b-e25f1cc42599",
   "metadata": {},
   "outputs": [],
   "source": [
    "import pandas as pd\n",
    "import numpy as np\n",
    "from sklearn import metrics"
   ]
  },
  {
   "cell_type": "markdown",
   "id": "71ff8d2f-eaa4-4801-aa69-2b39b8868b5b",
   "metadata": {},
   "source": [
    "Скачаем дата-сет"
   ]
  },
  {
   "cell_type": "code",
   "execution_count": 3,
   "id": "cdd71ce5-0781-4f36-8e60-22cba95597aa",
   "metadata": {},
   "outputs": [],
   "source": [
    "from sklearn.datasets import load_breast_cancer\n",
    "data = load_breast_cancer()"
   ]
  },
  {
   "cell_type": "code",
   "execution_count": 5,
   "id": "01e1077b-da53-4fae-9711-44162134c412",
   "metadata": {},
   "outputs": [
    {
     "data": {
      "text/plain": [
       "(569, 30)"
      ]
     },
     "execution_count": 5,
     "metadata": {},
     "output_type": "execute_result"
    }
   ],
   "source": [
    "X, y = data['data'], data['target']\n",
    "X.shape"
   ]
  },
  {
   "cell_type": "markdown",
   "id": "84551858-6af1-4e76-945a-c4eae0f1be3a",
   "metadata": {},
   "source": [
    "Разобьем на тренировочные и тестовые выборки и рассмотрим базовую реализацию из scikit-learn"
   ]
  },
  {
   "cell_type": "code",
   "execution_count": 7,
   "id": "95160b88-a8a4-4400-bcf8-758426480c69",
   "metadata": {},
   "outputs": [
    {
     "data": {
      "text/plain": [
       "array([1, 1, 0, 1, 0, 1, 0, 1, 0, 1, 0, 0, 1, 1, 1, 1, 1, 0, 1, 1, 1, 0,\n",
       "       1, 1, 1, 1, 1, 1, 1, 0, 0, 1, 1, 1, 1, 0, 1, 1, 0, 1, 0, 0, 0, 1,\n",
       "       1, 0, 1, 0, 1, 1, 0, 1, 1, 0, 1, 0, 1, 1, 0, 1, 1, 1, 1, 0, 1, 1,\n",
       "       1, 1, 1, 0, 0, 1, 1, 1, 1, 0, 1, 0, 0, 1, 1, 1, 0, 1, 1, 1, 1, 0,\n",
       "       1, 1, 0, 1, 1, 1, 0, 1, 1, 0, 1, 0, 1, 1, 1, 1, 1, 0, 1, 1, 1, 0,\n",
       "       1, 0, 1, 1, 0, 1, 1, 1, 1, 0, 0, 1, 0, 1, 0, 0, 0, 1, 0, 1, 0, 1,\n",
       "       1, 1, 1, 1, 0, 1, 1, 1, 0, 1, 1])"
      ]
     },
     "execution_count": 7,
     "metadata": {},
     "output_type": "execute_result"
    }
   ],
   "source": [
    "from sklearn.model_selection import train_test_split\n",
    "from sklearn.preprocessing import StandardScaler\n",
    "X_train, X_test, y_train, y_test = train_test_split(X, y, test_size=0.25, shuffle=True)\n",
    "from sklearn.neighbors import KNeighborsClassifier\n",
    "model = KNeighborsClassifier(n_neighbors=3)\n",
    "model.fit(X_train, y_train)\n",
    "KNeighborsClassifier(n_neighbors=3)\n",
    "preds = model.predict(X_test)\n",
    "preds"
   ]
  },
  {
   "cell_type": "markdown",
   "id": "4a36c8c1-d62e-454d-ad89-deb5fd80a62c",
   "metadata": {},
   "source": [
    "F1-score равен:"
   ]
  },
  {
   "cell_type": "code",
   "execution_count": 9,
   "id": "acbb9b20-70ce-43ac-a4fa-5e71703c5b9e",
   "metadata": {},
   "outputs": [
    {
     "data": {
      "text/plain": [
       "0.9473684210526315"
      ]
     },
     "execution_count": 9,
     "metadata": {},
     "output_type": "execute_result"
    }
   ],
   "source": [
    "metrics.f1_score(y_test, preds)"
   ]
  },
  {
   "cell_type": "markdown",
   "id": "fc7d9a1b-163a-48b9-bd70-43ed5facb7bd",
   "metadata": {},
   "source": [
    "Возьмем реализвцию KNN из семинара и добавим новые метрики (https://habr.com/ru/articles/801885/) "
   ]
  },
  {
   "cell_type": "code",
   "execution_count": 42,
   "id": "4f2e77b5-885a-47c5-9192-38d480217f0b",
   "metadata": {},
   "outputs": [],
   "source": [
    "from sklearn.preprocessing import StandardScaler\n",
    "class KNN:\n",
    "    def __init__(self, k, type) -> None:\n",
    "        self.k = k\n",
    "        self.type = type\n",
    "        self.scaler = StandardScaler()\n",
    "\n",
    "    def fit(self, X_train, y_train):\n",
    "        self.scaler.fit(X_train)\n",
    "        self.X_train = self.scaler.transform(X_train)\n",
    "        self.y_train = y_train\n",
    "\n",
    "    def euclidian_distance(self, a, b):\n",
    "        return np.sqrt(((a - b)**2).sum())\n",
    "    \n",
    "    def manhattan_distance(self, a, b):\n",
    "        return (abs(a - b).sum())\n",
    "\n",
    "    def cosine_distance(self, a, b):\n",
    "        return 1 - ((a * b).sum() / (np.sqrt(((a)**2).sum()) * np.sqrt(((b)**2).sum())))\n",
    "    \n",
    "    def predict(self, X_test):\n",
    "\n",
    "        transformed_X_test = self.scaler.transform(X_test)\n",
    "        \n",
    "        distance_matrix = np.zeros((X_test.shape[0], X_train.shape[0]))\n",
    "\n",
    "        if self.type == 'euclid':\n",
    "            for i in range(len(X_test)):\n",
    "                for j in range(len(self.X_train)):\n",
    "                    distance_matrix[i][j] = self.euclidian_distance(transformed_X_test[i], self.X_train[j])\n",
    "                    \n",
    "        elif self.type == 'manhattan':\n",
    "            for i in range(len(X_test)):\n",
    "                for j in range(len(self.X_train)):\n",
    "                    distance_matrix[i][j] = self.manhattan_distance(transformed_X_test[i], self.X_train[j])\n",
    "\n",
    "        else:\n",
    "            for i in range(len(X_test)):\n",
    "                for j in range(len(self.X_train)):\n",
    "                    distance_matrix[i][j] = self.cosine_distance(transformed_X_test[i], self.X_train[j])\n",
    "        \n",
    "        idx_matrix = np.argsort(distance_matrix, axis=1)[:, :self.k]\n",
    "        y_pred_initial = self.y_train[idx_matrix]\n",
    "        y_pred = (y_pred_initial.mean(axis=1)>=0.5).astype(int)\n",
    "\n",
    "        return y_pred"
   ]
  },
  {
   "cell_type": "code",
   "execution_count": 52,
   "id": "6d577eab-be90-4f12-83ad-c30f3ec1f71c",
   "metadata": {},
   "outputs": [
    {
     "data": {
      "text/plain": [
       "0.9842931937172774"
      ]
     },
     "execution_count": 52,
     "metadata": {},
     "output_type": "execute_result"
    }
   ],
   "source": [
    "knn = KNN(3, 'euclid')\n",
    "knn.fit(X_train, y_train)\n",
    "knn.predict(X_test)\n",
    "metrics.f1_score(y_test, knn.predict(X_test))"
   ]
  },
  {
   "cell_type": "markdown",
   "id": "b58e7a8b-6a23-4df7-8377-2fa023cdfd7a",
   "metadata": {},
   "source": [
    "Сравним с реализацией готового решения, найденного на просторах интернета P.S. интересует значения F1-score"
   ]
  },
  {
   "cell_type": "code",
   "execution_count": 71,
   "id": "1818315f-1e5c-442b-854e-6dceb2929f41",
   "metadata": {},
   "outputs": [],
   "source": [
    "import numpy as np\n",
    "from sklearn.preprocessing import StandardScaler\n",
    "\n",
    "class KNN:\n",
    "    def __init__(self, k, metric='euclidean') -> None:\n",
    "        \"\"\"\n",
    "        :param metric: metric for distance ('euclidean', 'manhattan', 'cosine')\n",
    "        \"\"\"\n",
    "        self.k = k\n",
    "        self.metric = metric\n",
    "        self.scaler = StandardScaler()\n",
    "\n",
    "    def fit(self, X_train, y_train):\n",
    "        self.scaler.fit(X_train)\n",
    "        self.X_train = self.scaler.transform(X_train)\n",
    "        self.y_train = y_train\n",
    "\n",
    "    def euclidean_distance(self, a, b):\n",
    "        return np.sqrt(((a - b) ** 2).sum())\n",
    "\n",
    "    def manhattan_distance(self, a, b):\n",
    "        return np.abs(a - b).sum()\n",
    "\n",
    "    def cosine_distance(self, a, b):\n",
    "        dot_product = np.dot(a, b)\n",
    "        norm_a = np.sqrt(np.dot(a, a))\n",
    "        norm_b = np.sqrt(np.dot(b, b))\n",
    "        return 1 - dot_product / (norm_a * norm_b)\n",
    "\n",
    "    def compute_distance(self, a, b):\n",
    "        if self.metric == 'euclidean':\n",
    "            return self.euclidean_distance(a, b)\n",
    "        elif self.metric == 'manhattan':\n",
    "            return self.manhattan_distance(a, b)\n",
    "        elif self.metric == 'cosine':\n",
    "            return self.cosine_distance(a, b)\n",
    "        else:\n",
    "            raise ValueError(f\"Unknown metric: {self.metric}\")\n",
    "\n",
    "    def predict(self, X_test):\n",
    "        transformed_X_test = self.scaler.transform(X_test)\n",
    "\n",
    "        distance_matrix = np.zeros((X_test.shape[0], self.X_train.shape[0]))\n",
    "        for i in range(len(X_test)):\n",
    "            for j in range(len(self.X_train)):\n",
    "                distance_matrix[i][j] = self.compute_distance(transformed_X_test[i], self.X_train[j])\n",
    "\n",
    "        idx_matrix = np.argsort(distance_matrix, axis=1)[:, :self.k]\n",
    "        y_pred_initial = self.y_train[idx_matrix]\n",
    "        y_pred = (y_pred_initial.mean(axis=1) >= 0.5).astype(int)\n",
    "\n",
    "        return y_pred\n"
   ]
  },
  {
   "cell_type": "code",
   "execution_count": 73,
   "id": "9de6de06-7815-42a7-bbfc-2c19cfb1acf2",
   "metadata": {},
   "outputs": [],
   "source": [
    "knn = KNN(k=3, metric='manhattan')\n",
    "knn.fit(X_train, y_train)\n",
    "y_pred = knn.predict(X_test)"
   ]
  },
  {
   "cell_type": "code",
   "execution_count": 77,
   "id": "5d6eb4dc-0fe2-42a1-b1f1-ca3ba7282fb3",
   "metadata": {},
   "outputs": [
    {
     "data": {
      "text/plain": [
       "0.9842931937172774"
      ]
     },
     "execution_count": 77,
     "metadata": {},
     "output_type": "execute_result"
    }
   ],
   "source": [
    "knn = KNN(3, metric='euclidean')\n",
    "knn.fit(X_train, y_train)\n",
    "knn.predict(X_test)\n",
    "metrics.f1_score(y_test, knn.predict(X_test))"
   ]
  },
  {
   "cell_type": "markdown",
   "id": "af7975e5-337f-4aa6-bb00-e6b058842dd2",
   "metadata": {},
   "source": [
    "Вывод: Значения скора сошлись, реализация метрик на одном и том же дата-сете дали аналогичные значения"
   ]
  },
  {
   "cell_type": "code",
   "execution_count": null,
   "id": "cf148324-f87b-4bed-8e5e-3cd917829de9",
   "metadata": {},
   "outputs": [],
   "source": []
  }
 ],
 "metadata": {
  "kernelspec": {
   "display_name": "Python 3 (ipykernel)",
   "language": "python",
   "name": "python3"
  },
  "language_info": {
   "codemirror_mode": {
    "name": "ipython",
    "version": 3
   },
   "file_extension": ".py",
   "mimetype": "text/x-python",
   "name": "python",
   "nbconvert_exporter": "python",
   "pygments_lexer": "ipython3",
   "version": "3.11.7"
  }
 },
 "nbformat": 4,
 "nbformat_minor": 5
}
