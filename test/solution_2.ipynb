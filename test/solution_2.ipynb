{
 "cells": [
  {
   "cell_type": "code",
   "execution_count": 50,
   "id": "37414140-e86d-490b-995f-48e47cfbe9f4",
   "metadata": {},
   "outputs": [],
   "source": [
    "from sklearn.model_selection import train_test_split\n",
    "from sklearn.model_selection import train_test_split\n",
    "from sklearn.preprocessing import StandardScaler, RobustScaler\n",
    "from sklearn.metrics import mean_squared_error\n",
    "import pandas as pd\n",
    "import numpy as np\n",
    "from sklearn.metrics import mean_squared_error, mean_absolute_error, f1_score"
   ]
  },
  {
   "cell_type": "markdown",
   "id": "d1d0f5de-deb4-4ade-8457-52635135927e",
   "metadata": {},
   "source": [
    "Для удобства сделаем функцию обработки данных из ДЗ2 (так как еще и в третьем задании используетс данный датасет)"
   ]
  },
  {
   "cell_type": "code",
   "execution_count": 53,
   "id": "b6f7177b-9709-4eda-9ead-689375798ae5",
   "metadata": {},
   "outputs": [],
   "source": [
    "def check_data(data):\n",
    "  data.loc[:, data.dtypes == \"float64\"] = data.loc[:, data.dtypes == \"float64\"].fillna(\n",
    "      data.loc[:, data.dtypes == \"float64\"].mean(axis=0)\n",
    "  )\n",
    "  data.loc[:, data.dtypes == \"object\"] = data.loc[:, data.dtypes == \"object\"].fillna(\"\")\n",
    "  data_encoded = pd.get_dummies(data)\n",
    "\n",
    "  data_encoded.columns = data_encoded.columns.astype(str)\n",
    "  X = data_encoded.drop(columns=[\"25\"])\n",
    "  columns = X.columns\n",
    "  y = data_encoded[\"25\"]\n",
    "  X_train, X_test, y_train, y_test = train_test_split(X, y, test_size=0.1, random_state=3)\n",
    "\n",
    "  scaler = RobustScaler()\n",
    "  scaler.fit(X_train)\n",
    "\n",
    "  X_train = scaler.transform(X_train)\n",
    "  X_test = scaler.transform(X_test)\n",
    "\n",
    "  return X_train, X_test, y_train, y_test, columns\n",
    "    "
   ]
  },
  {
   "cell_type": "code",
   "execution_count": 55,
   "id": "8d2eeaf6-06c1-4c05-946a-7a863970d8bb",
   "metadata": {},
   "outputs": [],
   "source": [
    "data = pd.read_csv(\"automobile/imports-85.data\", header=None, na_values=\"?\")\n",
    "\n",
    "X_train, X_test, y_train, y_test, columns = check_data(data)"
   ]
  },
  {
   "cell_type": "markdown",
   "id": "07ec0695-9ece-4d29-b8bf-2b5512ebade6",
   "metadata": {},
   "source": [
    "Возьмем шаблон аналогично тому, что было ранее в дз2 "
   ]
  },
  {
   "cell_type": "code",
   "execution_count": 58,
   "id": "c08515a0-f2f6-4916-b7e6-a267d6e69139",
   "metadata": {},
   "outputs": [],
   "source": [
    "class MyLinearRegression:\n",
    "    def __init__(self, lr=0.001, num_iter=10000) -> None:\n",
    "        self.lr = lr\n",
    "        self.num_iter = num_iter\n",
    "        self.weights = None\n",
    "        self.b = None\n",
    "\n",
    "    def calculate_loss(self, y, y_pred):\n",
    "        return ((y - y_pred) ** 2).mean()\n",
    "\n",
    "    def calculate_dldw(self, y, y_pred, x):\n",
    "        grad_w = (-2 * x.T.dot(y - y_pred)) / y.shape[0]\n",
    "        return grad_w\n",
    "\n",
    "    def calculate_dldb(self, y, y_pred):\n",
    "        grad_b = (-2 * (y - y_pred)).mean()\n",
    "        return grad_b\n",
    "\n",
    "    def fit(self, X_train, y_train):\n",
    "        X_train = np.array(X_train)\n",
    "        y_train = np.array(y_train)\n",
    "        n_features = X_train.shape[1]\n",
    "        self.weights = np.random.randn(n_features)\n",
    "        self.b = 0.0\n",
    "        for i in range(self.num_iter):\n",
    "            pred = X_train @ self.weights + self.b\n",
    "            dw = self.calculate_dldw(y_train, pred, X_train)\n",
    "            db = self.calculate_dldb(y_train, pred)\n",
    "            self.weights -= self.lr * dw\n",
    "            self.b -= self.lr * db\n",
    "\n",
    "        return self\n",
    "\n",
    "    def predict(self, X_test):\n",
    "        X_test = np.array(X_test)\n",
    "        return X_test @ self.weights + self.b"
   ]
  },
  {
   "cell_type": "code",
   "execution_count": 74,
   "id": "0986807b-d7e5-40d4-ad01-08df01eac23d",
   "metadata": {},
   "outputs": [
    {
     "name": "stdout",
     "output_type": "stream",
     "text": [
      "MSE 2168252.645452513\n"
     ]
    }
   ],
   "source": [
    "model = MyLinearRegression(lr=0.01, num_iter=10000)\n",
    "model.fit(X_train, y_train)\n",
    "\n",
    "y_pred_our = model.predict(X_test)\n",
    "print(\"MSE\",\n",
    " mean_squared_error(y_test, y_pred_our))"
   ]
  },
  {
   "cell_type": "code",
   "execution_count": 76,
   "id": "3a9409ac-e6bc-492b-9b16-33df79f9fcc0",
   "metadata": {},
   "outputs": [
    {
     "name": "stdout",
     "output_type": "stream",
     "text": [
      "MSE SKLearn: 1604.145364013898\n"
     ]
    }
   ],
   "source": [
    "from sklearn.linear_model import LinearRegression\n",
    "\n",
    "lr_sklearn = LinearRegression()\n",
    "lr_sklearn.fit(X_train, y_train)\n",
    "y_pred_sklearn = lr_sklearn.predict(X_test)\n",
    "mse_sklearn = mean_absolute_error(y_test, y_pred_sklearn)\n",
    "\n",
    "print(\"MSE SKLearn:\", mse_sklearn)"
   ]
  },
  {
   "cell_type": "code",
   "execution_count": 46,
   "id": "548fc472-ee7d-457d-a99d-ad52055e1c1a",
   "metadata": {},
   "outputs": [
    {
     "name": "stdout",
     "output_type": "stream",
     "text": [
      "My: 8115.264708101374, Sklearn: 11116.453281868398\n"
     ]
    }
   ],
   "source": [
    "print(f\"My: {model.b}, Sklearn: {lr_sklearn.intercept_}\")\n"
   ]
  },
  {
   "cell_type": "code",
   "execution_count": null,
   "id": "ecb32931-cd78-4f2e-9a6f-1ccc5670d3d0",
   "metadata": {},
   "outputs": [],
   "source": []
  }
 ],
 "metadata": {
  "kernelspec": {
   "display_name": "Python 3 (ipykernel)",
   "language": "python",
   "name": "python3"
  },
  "language_info": {
   "codemirror_mode": {
    "name": "ipython",
    "version": 3
   },
   "file_extension": ".py",
   "mimetype": "text/x-python",
   "name": "python",
   "nbconvert_exporter": "python",
   "pygments_lexer": "ipython3",
   "version": "3.11.7"
  }
 },
 "nbformat": 4,
 "nbformat_minor": 5
}
