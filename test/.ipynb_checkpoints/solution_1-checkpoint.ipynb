{
 "cells": [
  {
   "cell_type": "code",
   "execution_count": 41,
   "id": "4191953d-c4ee-48b3-99e6-75b88316b3db",
   "metadata": {},
   "outputs": [],
   "source": [
    "import numpy as np\n",
    "from sklearn.datasets import load_wine\n",
    "from sklearn.model_selection import train_test_split\n",
    "from sklearn.preprocessing import StandardScaler\n",
    "from collections import Counter\n",
    "import pandas as pd\n",
    "\n"
   ]
  },
  {
   "cell_type": "markdown",
   "id": "85dbf04f-2172-4db1-bb13-f64da9ee5337",
   "metadata": {},
   "source": [
    "Посмотрим как выглядят наши данные (оказалось, что это не ДФ пандаса)"
   ]
  },
  {
   "cell_type": "code",
   "execution_count": 76,
   "id": "e24fb2d8-570d-4193-8adc-ac0c993d0a03",
   "metadata": {},
   "outputs": [
    {
     "name": "stdout",
     "output_type": "stream",
     "text": [
      "6\n",
      "dict_keys(['data', 'target', 'frame', 'target_names', 'DESCR', 'feature_names'])\n"
     ]
    }
   ],
   "source": [
    "data = load_wine()\n",
    "print(len(data))\n",
    "print(data.keys())"
   ]
  },
  {
   "cell_type": "markdown",
   "id": "75f9a98e-34d2-4674-9873-08a3f21d2e44",
   "metadata": {},
   "source": [
    "Вытащим таргеты и данные (мона еще через data['data'], data['target'] но так не оч красиво)"
   ]
  },
  {
   "cell_type": "code",
   "execution_count": 79,
   "id": "4e585abc-c33a-4bfb-a4fb-41d954c79258",
   "metadata": {},
   "outputs": [],
   "source": [
    "X, y = data.data, data.target\n",
    "\n",
    "scaler = StandardScaler()\n",
    "X = scaler.fit_transform(X)\n",
    "\n",
    "X_train, X_test, y_train, y_test = train_test_split(X, y, test_size=0.3, random_state=42)"
   ]
  },
  {
   "cell_type": "markdown",
   "id": "d73247cf-6761-4440-baf8-6f9cde9e5e00",
   "metadata": {},
   "source": [
    "На основе KNN и семинара допилим predict_proba и предикт"
   ]
  },
  {
   "cell_type": "code",
   "execution_count": 104,
   "id": "5f9b5b4d-bfb4-4a22-9da1-bbd85ad6a6c9",
   "metadata": {},
   "outputs": [],
   "source": [
    "class MyKNN:\n",
    "    def __init__(self, k) -> None:\n",
    "        self.k = k\n",
    "        self.scaler = StandardScaler()\n",
    "\n",
    "    def fit(self, X_train, y_train):\n",
    "        self.scaler.fit(X_train)\n",
    "        self.X_train = self.scaler.transform(X_train)\n",
    "        self.y_train = y_train\n",
    "\n",
    "    def euclidean_distance(self, a, b):\n",
    "        return np.sqrt(((a - b) ** 2).sum())\n",
    "\n",
    "    def predict(self, X_test):\n",
    "        transformed_X_test = self.scaler.transform(X_test)\n",
    "        distance_matrix = np.zeros((X_test.shape[0], self.X_train.shape[0]))\n",
    "\n",
    "        for i in range(len(X_test)):\n",
    "            for j in range(len(self.X_train)):\n",
    "                distance_matrix[i][j] = self.euclidean_distance(transformed_X_test[i], self.X_train[j])\n",
    "\n",
    "        idx_matrix = np.argsort(distance_matrix, axis=1)[:, :self.k]\n",
    "        y_pred_initial = self.y_train[idx_matrix]\n",
    "        \n",
    "        y_pred = np.array([np.bincount(row).argmax() for row in y_pred_initial])\n",
    "\n",
    "        return y_pred\n",
    "\n",
    "    def predict_proba(self, X_test):\n",
    "        transformed_X_test = self.scaler.transform(X_test)\n",
    "        distance_matrix = np.zeros((X_test.shape[0], self.X_train.shape[0]))\n",
    "\n",
    "        for i in range(len(X_test)):\n",
    "            for j in range(len(self.X_train)):\n",
    "                distance_matrix[i][j] = self.euclidean_distance(transformed_X_test[i], self.X_train[j])\n",
    "\n",
    "        idx_matrix = np.argsort(distance_matrix, axis=1)[:, :self.k]\n",
    "        y_pred_initial = self.y_train[idx_matrix]\n",
    "\n",
    "        proba = np.array([np.bincount(row, minlength=len(np.unique(self.y_train))) / self.k for row in y_pred_initial])\n",
    "\n",
    "        return proba\n"
   ]
  },
  {
   "cell_type": "markdown",
   "id": "04454c9a-06a1-4779-9303-5b0787d2b612",
   "metadata": {},
   "source": [
    "Проиницилизируем класс и обучим модельку, доп выведем MSE / MAE / F1 score (последнии самый релевантный)"
   ]
  },
  {
   "cell_type": "code",
   "execution_count": null,
   "id": "a3f869d8-a88f-41b2-ada2-f842b10f1730",
   "metadata": {},
   "outputs": [],
   "source": []
  },
  {
   "cell_type": "code",
   "execution_count": 90,
   "id": "0c3d059b-3fe6-4531-8157-c50e12f4d401",
   "metadata": {},
   "outputs": [
    {
     "name": "stdout",
     "output_type": "stream",
     "text": [
      "Predicted classes: [0 0 2 0 1 0 1 2 1 2 0 2 0 2 0 1 1 1 0 1 0 1 1 2 2 2 1 0 1 0 0 1 2 0 0 0 2\n",
      " 2 1 2 0 1 1 1 2 0 1 1 2 0 1 0 0 2]\n",
      "Predicted probabilities: [[1.         0.         0.        ]\n",
      " [1.         0.         0.        ]\n",
      " [0.         0.         1.        ]\n",
      " [1.         0.         0.        ]\n",
      " [0.         1.         0.        ]\n",
      " [1.         0.         0.        ]\n",
      " [0.         1.         0.        ]\n",
      " [0.         0.         1.        ]\n",
      " [0.         1.         0.        ]\n",
      " [0.         0.         1.        ]\n",
      " [1.         0.         0.        ]\n",
      " [0.         0.         1.        ]\n",
      " [1.         0.         0.        ]\n",
      " [0.         0.         1.        ]\n",
      " [1.         0.         0.        ]\n",
      " [0.         1.         0.        ]\n",
      " [0.         1.         0.        ]\n",
      " [0.         1.         0.        ]\n",
      " [1.         0.         0.        ]\n",
      " [0.         1.         0.        ]\n",
      " [1.         0.         0.        ]\n",
      " [0.         1.         0.        ]\n",
      " [0.         0.66666667 0.33333333]\n",
      " [0.         0.         1.        ]\n",
      " [0.         0.         1.        ]\n",
      " [0.         0.         1.        ]\n",
      " [0.         1.         0.        ]\n",
      " [0.66666667 0.33333333 0.        ]\n",
      " [0.         1.         0.        ]\n",
      " [1.         0.         0.        ]\n",
      " [1.         0.         0.        ]\n",
      " [0.         1.         0.        ]\n",
      " [0.         0.         1.        ]\n",
      " [1.         0.         0.        ]\n",
      " [1.         0.         0.        ]\n",
      " [1.         0.         0.        ]\n",
      " [0.         0.         1.        ]\n",
      " [0.         0.         1.        ]\n",
      " [0.33333333 0.66666667 0.        ]\n",
      " [0.         0.         1.        ]\n",
      " [1.         0.         0.        ]\n",
      " [0.         1.         0.        ]\n",
      " [0.         1.         0.        ]\n",
      " [0.         0.66666667 0.33333333]\n",
      " [0.         0.         1.        ]\n",
      " [1.         0.         0.        ]\n",
      " [0.         1.         0.        ]\n",
      " [0.         1.         0.        ]\n",
      " [0.         0.         1.        ]\n",
      " [1.         0.         0.        ]\n",
      " [0.         1.         0.        ]\n",
      " [1.         0.         0.        ]\n",
      " [1.         0.         0.        ]\n",
      " [0.         0.         1.        ]]\n",
      "Mean Squared Error (MSE): 0.037037037037037035\n",
      "Mean Absolute Error (MAE): 0.037037037037037035\n",
      "F1 Score: 0.9625937387431641\n"
     ]
    }
   ],
   "source": [
    "\n",
    "knn = MyKNN(k=3)\n",
    "knn.fit(X_train, y_train)\n",
    "\n",
    "predictions = knn.predict(X_test)\n",
    "print(\"Predicted classes:\", predictions)\n",
    "\n",
    "proba = knn.predict_proba(X_test)\n",
    "print(\"Predicted probabilities:\", proba)\n",
    "\n",
    "mse = mean_squared_error(y_test, predictions)\n",
    "mae = mean_absolute_error(y_test, predictions)\n",
    "f1 = f1_score(y_test, predictions, average='weighted')\n",
    "\n",
    "print(f\"Mean Squared Error (MSE): {mse}\")\n",
    "print(f\"Mean Absolute Error (MAE): {mae}\")\n",
    "print(f\"F1 Score: {f1}\")"
   ]
  },
  {
   "cell_type": "markdown",
   "id": "6efd252d-e3a0-4556-ab5d-2252406c768a",
   "metadata": {},
   "source": [
    "Чтобы было с чем сравнивать, возьмем KNN из scikit-learn (На всякий случай еще раз сделаем импорт (а то времени не так много деббагать)"
   ]
  },
  {
   "cell_type": "code",
   "execution_count": 100,
   "id": "270afe92-eb20-45ba-9eec-7f7b1b41e226",
   "metadata": {},
   "outputs": [
    {
     "name": "stdout",
     "output_type": "stream",
     "text": [
      "MSE: 0.037037037037037035\n",
      "MAE: 0.037037037037037035\n",
      "F1 Score: 0.9625937387431641\n",
      "Probabilities for each class:\n",
      "[[1.         0.         0.        ]\n",
      " [1.         0.         0.        ]\n",
      " [0.         0.         1.        ]\n",
      " [1.         0.         0.        ]\n",
      " [0.         1.         0.        ]\n",
      " [1.         0.         0.        ]\n",
      " [0.         1.         0.        ]\n",
      " [0.         0.         1.        ]\n",
      " [0.         1.         0.        ]\n",
      " [0.         0.         1.        ]\n",
      " [1.         0.         0.        ]\n",
      " [0.         0.         1.        ]\n",
      " [1.         0.         0.        ]\n",
      " [0.         0.         1.        ]\n",
      " [1.         0.         0.        ]\n",
      " [0.         1.         0.        ]\n",
      " [0.         1.         0.        ]\n",
      " [0.         1.         0.        ]\n",
      " [1.         0.         0.        ]\n",
      " [0.         1.         0.        ]\n",
      " [1.         0.         0.        ]\n",
      " [0.         1.         0.        ]\n",
      " [0.         0.66666667 0.33333333]\n",
      " [0.         0.         1.        ]\n",
      " [0.         0.         1.        ]\n",
      " [0.         0.         1.        ]\n",
      " [0.         1.         0.        ]\n",
      " [0.66666667 0.33333333 0.        ]\n",
      " [0.         1.         0.        ]\n",
      " [1.         0.         0.        ]\n",
      " [1.         0.         0.        ]\n",
      " [0.         1.         0.        ]\n",
      " [0.         0.         1.        ]\n",
      " [1.         0.         0.        ]\n",
      " [1.         0.         0.        ]\n",
      " [1.         0.         0.        ]\n",
      " [0.         0.         1.        ]\n",
      " [0.         0.         1.        ]\n",
      " [0.33333333 0.66666667 0.        ]\n",
      " [0.         0.         1.        ]\n",
      " [1.         0.         0.        ]\n",
      " [0.         1.         0.        ]\n",
      " [0.         1.         0.        ]\n",
      " [0.         0.66666667 0.33333333]\n",
      " [0.         0.         1.        ]\n",
      " [1.         0.         0.        ]\n",
      " [0.         1.         0.        ]\n",
      " [0.         1.         0.        ]\n",
      " [0.         0.         1.        ]\n",
      " [1.         0.         0.        ]\n",
      " [0.         1.         0.        ]\n",
      " [1.         0.         0.        ]\n",
      " [1.         0.         0.        ]\n",
      " [0.         0.         1.        ]]\n"
     ]
    }
   ],
   "source": [
    "import numpy as np\n",
    "from sklearn.datasets import load_wine\n",
    "from sklearn.model_selection import train_test_split\n",
    "from sklearn.preprocessing import StandardScaler\n",
    "from sklearn.neighbors import KNeighborsClassifier\n",
    "from sklearn.metrics import mean_squared_error, mean_absolute_error, f1_score\n",
    "\n",
    "wine = load_wine()\n",
    "X = wine.data\n",
    "y = wine.target\n",
    "\n",
    "X_train, X_test, y_train, y_test = train_test_split(X, y, test_size=0.3, random_state=42)\n",
    "\n",
    "scaler = StandardScaler()\n",
    "X_train = scaler.fit_transform(X_train)\n",
    "X_test = scaler.transform(X_test)\n",
    "\n",
    "knn = KNeighborsClassifier(n_neighbors=3)\n",
    "\n",
    "knn.fit(X_train, y_train)\n",
    "\n",
    "y_pred = knn.predict(X_test)\n",
    "\n",
    "y_pred_proba = knn.predict_proba(X_test)\n",
    "\n",
    "mse = mean_squared_error(y_test, y_pred)\n",
    "mae = mean_absolute_error(y_test, y_pred)\n",
    "f1 = f1_score(y_test, y_pred, average='weighted')  # Для мультиклассовой классификации\n",
    "\n",
    "print(f'MSE: {mse}')\n",
    "print(f'MAE: {mae}')\n",
    "print(f'F1 Score: {f1}')\n",
    "\n",
    "print(\"Probabilities for each class:\")\n",
    "print(y_pred_proba)\n"
   ]
  },
  {
   "cell_type": "markdown",
   "id": "2afb0de4-6527-4e38-9b16-a4454dbce1dd",
   "metadata": {},
   "source": [
    "ИТОГ: Рез-ы, в целом, идеально сошлись, даже очень, Победа!"
   ]
  },
  {
   "cell_type": "code",
   "execution_count": null,
   "id": "9dc982c0-42ee-457d-8516-17ebddd59d11",
   "metadata": {},
   "outputs": [],
   "source": []
  }
 ],
 "metadata": {
  "kernelspec": {
   "display_name": "Python 3 (ipykernel)",
   "language": "python",
   "name": "python3"
  },
  "language_info": {
   "codemirror_mode": {
    "name": "ipython",
    "version": 3
   },
   "file_extension": ".py",
   "mimetype": "text/x-python",
   "name": "python",
   "nbconvert_exporter": "python",
   "pygments_lexer": "ipython3",
   "version": "3.11.7"
  }
 },
 "nbformat": 4,
 "nbformat_minor": 5
}
