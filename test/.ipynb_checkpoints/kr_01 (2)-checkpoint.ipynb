{
  "cells": [
    {
      "cell_type": "markdown",
      "id": "80547322-bad1-4a2e-afdb-86ab3b26005f",
      "metadata": {
        "id": "80547322-bad1-4a2e-afdb-86ab3b26005f"
      },
      "source": [
        "# Контрольная работа №1\n",
        "\n",
        "Время на выполнение 1 час 20 минут."
      ]
    },
    {
      "cell_type": "code",
      "execution_count": 1,
      "id": "237a3154-a3a0-44e0-ab33-de7a216c8661",
      "metadata": {
        "id": "237a3154-a3a0-44e0-ab33-de7a216c8661"
      },
      "outputs": [],
      "source": [
        "import pandas as pd\n",
        "import numpy as np\n",
        "from sklearn.datasets import load_wine"
      ]
    },
    {
      "cell_type": "markdown",
      "id": "2e036250-9515-4422-b94a-5fe0b51e8052",
      "metadata": {
        "id": "2e036250-9515-4422-b94a-5fe0b51e8052"
      },
      "source": [
        "## Задание №1 (3 балла)\n",
        "\n",
        "Реализовать алгоритм классификации KNN для мультиклассовой классификации с методом `predict_proba` для предсказания вероятностей классов.\n",
        "\n",
        "Использовать датасет Wine (`load_wine` из `sklearn.datasets`)."
      ]
    },
    {
      "cell_type": "code",
      "source": [
        "class KNN:\n",
        "    def __init__(self, k):\n",
        "        self.k = k\n",
        "        self.scaler = StandardScaler()\n",
        "\n",
        "    def fit(self, X_train, y_train):\n",
        "        self.scaler.fit(X_train)\n",
        "        self.X_train = self.scaler.transform(X_train)\n",
        "        self.y_train = y_train\n",
        "        self.classes_ = np.unique(y_train)\n",
        "\n",
        "    def euclidian_distance(self, a, b):\n",
        "        return np.sqrt(np.sum((a - b)**2))\n",
        "\n",
        "    def predict_proba(self, X_test):\n",
        "        transformed_X_test = self.scaler.transform(X_test)\n",
        "\n",
        "        distance_matrix = np.zeros((X_test.shape[0], self.X_train.shape[0]))\n",
        "        for i in range(len(X_test)):\n",
        "            for j in range(len(self.X_train)):\n",
        "                distance_matrix[i][j] = self.euclidian_distance(transformed_X_test[i], self.X_train[j])\n",
        "\n",
        "        idx_matrix = np.argsort(distance_matrix, axis=1)[:, :self.k]\n",
        "\n",
        "        neighbors_classes = self.y_train[idx_matrix]\n",
        "\n",
        "        proba = np.zeros((X_test.shape[0], len(self.classes_)))\n",
        "        for i in range(X_test.shape[0]):\n",
        "            counts = np.bincount(neighbors_classes[i], minlength=len(self.classes_))\n",
        "            proba[i] = counts / self.k\n",
        "\n",
        "        return proba\n",
        "\n",
        "    def predict(self, X_test):\n",
        "        proba = self.predict_proba(X_test)\n",
        "        y_pred = self.classes_[np.argmax(proba, axis=1)]\n",
        "        return y_pred"
      ],
      "metadata": {
        "id": "pajsD_FaWsPQ"
      },
      "id": "pajsD_FaWsPQ",
      "execution_count": 2,
      "outputs": []
    },
    {
      "cell_type": "code",
      "source": [
        "from sklearn.model_selection import train_test_split\n",
        "from sklearn.model_selection import train_test_split\n",
        "from sklearn.preprocessing import StandardScaler, RobustScaler\n",
        "from sklearn.metrics import mean_squared_error\n",
        "\n",
        "def preprocess_data_sklearn():\n",
        "  data = load_wine()\n",
        "  X = data.data\n",
        "  y = data.target\n",
        "  X_train, X_test, y_train, y_test = train_test_split(X, y, test_size=0.2, random_state=42)\n",
        "\n",
        "  return X_train, X_test, y_train, y_test"
      ],
      "metadata": {
        "id": "Y8nf4U-peqVj"
      },
      "id": "Y8nf4U-peqVj",
      "execution_count": 3,
      "outputs": []
    },
    {
      "cell_type": "markdown",
      "source": [
        "# Мое решение"
      ],
      "metadata": {
        "id": "zossWViKfZw-"
      },
      "id": "zossWViKfZw-"
    },
    {
      "cell_type": "code",
      "source": [
        "from sklearn.metrics import mean_squared_error, mean_absolute_error, f1_score\n",
        "\n",
        "X_train, X_test, y_train, y_test = preprocess_data_sklearn()\n",
        "\n",
        "knn = KNN(k=5)\n",
        "knn.fit(X_train, y_train)\n",
        "y_pred = knn.predict(X_test)\n",
        "\n",
        "print(\"MSE:\", mean_squared_error(y_test, y_pred))\n",
        "print(\"MAE:\", mean_absolute_error(y_test, y_pred))\n",
        "print(\"F1 score (weighted):\", f1_score(y_test, y_pred, average='weighted'))"
      ],
      "metadata": {
        "colab": {
          "base_uri": "https://localhost:8080/"
        },
        "id": "6vUh0wyAe8_Q",
        "outputId": "a5201112-3fc5-4904-85b3-300de35d3e19"
      },
      "id": "6vUh0wyAe8_Q",
      "execution_count": 4,
      "outputs": [
        {
          "output_type": "stream",
          "name": "stdout",
          "text": [
            "MSE: 0.05555555555555555\n",
            "MAE: 0.05555555555555555\n",
            "F1 score (weighted): 0.9436036129748098\n"
          ]
        }
      ]
    },
    {
      "cell_type": "markdown",
      "source": [
        "# Sklearn"
      ],
      "metadata": {
        "id": "9JF1ogUWfakX"
      },
      "id": "9JF1ogUWfakX"
    },
    {
      "cell_type": "code",
      "source": [
        "from sklearn.neighbors import KNeighborsClassifier\n",
        "\n",
        "scaler = StandardScaler()\n",
        "X_train_scaled = scaler.fit_transform(X_train)\n",
        "X_test_scaled = scaler.transform(X_test)\n",
        "\n",
        "sk_knn = KNeighborsClassifier(n_neighbors=5)\n",
        "sk_knn.fit(X_train_scaled, y_train)\n",
        "y_pred_sk = sk_knn.predict(X_test_scaled)\n",
        "\n",
        "print(\"MSE:\", mean_squared_error(y_test, y_pred_sk))\n",
        "print(\"MAE:\", mean_absolute_error(y_test, y_pred_sk))\n",
        "print(\"F1 score (weighted):\", f1_score(y_test, y_pred_sk, average='weighted'))"
      ],
      "metadata": {
        "colab": {
          "base_uri": "https://localhost:8080/"
        },
        "id": "7MbM35YefbpD",
        "outputId": "47c29973-e9ef-48f1-e280-ab7244c9724b"
      },
      "id": "7MbM35YefbpD",
      "execution_count": 5,
      "outputs": [
        {
          "output_type": "stream",
          "name": "stdout",
          "text": [
            "MSE: 0.05555555555555555\n",
            "MAE: 0.05555555555555555\n",
            "F1 score (weighted): 0.9436036129748098\n"
          ]
        }
      ]
    },
    {
      "cell_type": "markdown",
      "source": [
        "Лоссы совпадают => все реализовано корректно"
      ],
      "metadata": {
        "id": "roj4fQQYgSrb"
      },
      "id": "roj4fQQYgSrb"
    },
    {
      "cell_type": "markdown",
      "id": "8d94879a-fbed-44e5-8fb6-2fe560d706a3",
      "metadata": {
        "id": "8d94879a-fbed-44e5-8fb6-2fe560d706a3"
      },
      "source": [
        "## Задание №2 (3 балла)\n",
        "\n",
        "В линейной регрессии оценить влияние признаков на результат.\n",
        "\n",
        "Использовать датасет <https://archive.ics.uci.edu/dataset/10/automobile> (из файла `imports-85.data`)"
      ]
    },
    {
      "cell_type": "code",
      "source": [
        "def preprocess_data(data):\n",
        "  # Preprocessing from homework 2\n",
        "  data.loc[:, data.dtypes == \"float64\"] = data.loc[:, data.dtypes == \"float64\"].fillna(\n",
        "      data.loc[:, data.dtypes == \"float64\"].mean(axis=0)\n",
        "  )\n",
        "  data.loc[:, data.dtypes == \"object\"] = data.loc[:, data.dtypes == \"object\"].fillna(\"\")\n",
        "  data_encoded = pd.get_dummies(data)\n",
        "\n",
        "  data_encoded.columns = data_encoded.columns.astype(str)\n",
        "  X = data_encoded.drop(columns=[\"25\"])\n",
        "  columns = X.columns\n",
        "  y = data_encoded[\"25\"]\n",
        "  X_train, X_test, y_train, y_test = train_test_split(X, y, test_size=0.1, random_state=3)\n",
        "\n",
        "  scaler = RobustScaler()\n",
        "  scaler.fit(X_train)\n",
        "\n",
        "  X_train = scaler.transform(X_train)\n",
        "  X_test = scaler.transform(X_test)\n",
        "\n",
        "  return X_train, X_test, y_train, y_test, columns"
      ],
      "metadata": {
        "id": "g_PB9MahcNg3"
      },
      "id": "g_PB9MahcNg3",
      "execution_count": 6,
      "outputs": []
    },
    {
      "cell_type": "code",
      "source": [
        "data = pd.read_csv(\"./imports-85.data\", header=None, na_values=\"?\")\n",
        "\n",
        "X_train, X_test, y_train, y_test, columns = preprocess_data(data)"
      ],
      "metadata": {
        "id": "gHJfWp-xgVlS"
      },
      "id": "gHJfWp-xgVlS",
      "execution_count": 7,
      "outputs": []
    },
    {
      "cell_type": "code",
      "source": [
        "class MyLinearRegression:\n",
        "    def __init__(self, lr=0.001, num_iter=10000) -> None:\n",
        "        self.lr = lr\n",
        "        self.num_iter = num_iter\n",
        "        self.weights = None\n",
        "        self.b = None\n",
        "\n",
        "    def calculate_loss(self, y, y_pred):\n",
        "        return ((y - y_pred) ** 2).mean()\n",
        "\n",
        "    def calculate_dldw(self, y, y_pred, x):\n",
        "        grad_w = (-2 * x.T.dot(y - y_pred)) / y.shape[0]\n",
        "        return grad_w\n",
        "\n",
        "    def calculate_dldb(self, y, y_pred):\n",
        "        grad_b = (-2 * (y - y_pred)).mean()\n",
        "        return grad_b\n",
        "\n",
        "    def fit(self, X_train, y_train):\n",
        "        X_train = np.array(X_train)\n",
        "        y_train = np.array(y_train)\n",
        "        n_features = X_train.shape[1]\n",
        "        self.weights = np.random.randn(n_features)\n",
        "        self.b = 0.0\n",
        "        for i in range(self.num_iter):\n",
        "            pred = X_train @ self.weights + self.b\n",
        "            dw = self.calculate_dldw(y_train, pred, X_train)\n",
        "            db = self.calculate_dldb(y_train, pred)\n",
        "            self.weights -= self.lr * dw\n",
        "            self.b -= self.lr * db\n",
        "\n",
        "        return self\n",
        "\n",
        "    def predict(self, X_test):\n",
        "        X_test = np.array(X_test)\n",
        "        return X_test @ self.weights + self.b"
      ],
      "metadata": {
        "id": "8gxNV7g0gYK6"
      },
      "id": "8gxNV7g0gYK6",
      "execution_count": 8,
      "outputs": []
    },
    {
      "cell_type": "markdown",
      "source": [
        "# Моя модель"
      ],
      "metadata": {
        "id": "ID151YHWhnYy"
      },
      "id": "ID151YHWhnYy"
    },
    {
      "cell_type": "code",
      "source": [
        "model = MyLinearRegression(lr=0.01, num_iter=10000)\n",
        "model.fit(X_train, y_train)\n",
        "\n",
        "y_pred_our = model.predict(X_test)\n",
        "mse_our = ((y_test - y_pred_our) ** 2).mean()\n",
        "\n",
        "print(\"MSE нашей модели:\", mse_our)"
      ],
      "metadata": {
        "colab": {
          "base_uri": "https://localhost:8080/"
        },
        "id": "O9eUYuPRhlCs",
        "outputId": "f5fd3b41-9c40-46e5-bea0-793556cbb5d3"
      },
      "id": "O9eUYuPRhlCs",
      "execution_count": 9,
      "outputs": [
        {
          "output_type": "stream",
          "name": "stdout",
          "text": [
            "MSE нашей модели: 2168349.873405952\n"
          ]
        }
      ]
    },
    {
      "cell_type": "markdown",
      "source": [
        "# Sklearn"
      ],
      "metadata": {
        "id": "HGbgF_2ohqz6"
      },
      "id": "HGbgF_2ohqz6"
    },
    {
      "cell_type": "code",
      "source": [
        "from sklearn.linear_model import LinearRegression\n",
        "\n",
        "lr_sklearn = LinearRegression()\n",
        "lr_sklearn.fit(X_train, y_train)\n",
        "y_pred_sklearn = lr_sklearn.predict(X_test)\n",
        "mse_sklearn = ((y_test - y_pred_sklearn) ** 2).mean()\n",
        "\n",
        "print(\"MSE SKLearn:\", mse_sklearn)"
      ],
      "metadata": {
        "colab": {
          "base_uri": "https://localhost:8080/"
        },
        "id": "aOrEyCiGhr3V",
        "outputId": "ece98f3c-1725-4be2-caca-453f1fc24fb2"
      },
      "id": "aOrEyCiGhr3V",
      "execution_count": 10,
      "outputs": [
        {
          "output_type": "stream",
          "name": "stdout",
          "text": [
            "MSE SKLearn: 4532429.049374114\n"
          ]
        }
      ]
    },
    {
      "cell_type": "code",
      "source": [
        "print(f\"My intercept: {model.b}, Sklearn intercept: {lr_sklearn.intercept_}\")\n",
        "\n",
        "pd.DataFrame(\n",
        "    {\n",
        "        \"columns\": columns,\n",
        "        \"my_tree\": model.weights,\n",
        "        \"sklearn\": lr_sklearn.coef_,\n",
        "    }\n",
        ").sort_values(by=\"my_tree\", ascending=False).reset_index(drop=True)"
      ],
      "metadata": {
        "colab": {
          "base_uri": "https://localhost:8080/",
          "height": 441
        },
        "id": "q5rf9GxbiZ4X",
        "outputId": "38c03f17-f2b2-426f-a539-e92d6aabe798"
      },
      "id": "q5rf9GxbiZ4X",
      "execution_count": 11,
      "outputs": [
        {
          "output_type": "stream",
          "name": "stdout",
          "text": [
            "My intercept: 8114.750121906954, Sklearn intercept: 11116.453281868402\n"
          ]
        },
        {
          "output_type": "execute_result",
          "data": {
            "text/plain": [
              "            columns      my_tree       sklearn\n",
              "0             2_bmw  6922.769448   7535.280730\n",
              "1                16  5489.718703   3742.858502\n",
              "2            8_rear  5050.536307   5273.073680\n",
              "3   2_mercedes-benz  4847.988649   2979.490107\n",
              "4     6_convertible  4444.782310   1328.477086\n",
              "..              ...          ...           ...\n",
              "71       2_plymouth -2454.869939  -3717.364916\n",
              "72     2_mitsubishi -2554.748084  -4103.151044\n",
              "73          15_five -3149.335676  -4885.806348\n",
              "74          8_front -5050.588826  -5273.073680\n",
              "75         14_dohcv -7018.307821 -22882.191453\n",
              "\n",
              "[76 rows x 3 columns]"
            ],
            "text/html": [
              "\n",
              "  <div id=\"df-fcc7d8e5-853e-4e0a-9e0f-0b90ff1245af\" class=\"colab-df-container\">\n",
              "    <div>\n",
              "<style scoped>\n",
              "    .dataframe tbody tr th:only-of-type {\n",
              "        vertical-align: middle;\n",
              "    }\n",
              "\n",
              "    .dataframe tbody tr th {\n",
              "        vertical-align: top;\n",
              "    }\n",
              "\n",
              "    .dataframe thead th {\n",
              "        text-align: right;\n",
              "    }\n",
              "</style>\n",
              "<table border=\"1\" class=\"dataframe\">\n",
              "  <thead>\n",
              "    <tr style=\"text-align: right;\">\n",
              "      <th></th>\n",
              "      <th>columns</th>\n",
              "      <th>my_tree</th>\n",
              "      <th>sklearn</th>\n",
              "    </tr>\n",
              "  </thead>\n",
              "  <tbody>\n",
              "    <tr>\n",
              "      <th>0</th>\n",
              "      <td>2_bmw</td>\n",
              "      <td>6922.769448</td>\n",
              "      <td>7535.280730</td>\n",
              "    </tr>\n",
              "    <tr>\n",
              "      <th>1</th>\n",
              "      <td>16</td>\n",
              "      <td>5489.718703</td>\n",
              "      <td>3742.858502</td>\n",
              "    </tr>\n",
              "    <tr>\n",
              "      <th>2</th>\n",
              "      <td>8_rear</td>\n",
              "      <td>5050.536307</td>\n",
              "      <td>5273.073680</td>\n",
              "    </tr>\n",
              "    <tr>\n",
              "      <th>3</th>\n",
              "      <td>2_mercedes-benz</td>\n",
              "      <td>4847.988649</td>\n",
              "      <td>2979.490107</td>\n",
              "    </tr>\n",
              "    <tr>\n",
              "      <th>4</th>\n",
              "      <td>6_convertible</td>\n",
              "      <td>4444.782310</td>\n",
              "      <td>1328.477086</td>\n",
              "    </tr>\n",
              "    <tr>\n",
              "      <th>...</th>\n",
              "      <td>...</td>\n",
              "      <td>...</td>\n",
              "      <td>...</td>\n",
              "    </tr>\n",
              "    <tr>\n",
              "      <th>71</th>\n",
              "      <td>2_plymouth</td>\n",
              "      <td>-2454.869939</td>\n",
              "      <td>-3717.364916</td>\n",
              "    </tr>\n",
              "    <tr>\n",
              "      <th>72</th>\n",
              "      <td>2_mitsubishi</td>\n",
              "      <td>-2554.748084</td>\n",
              "      <td>-4103.151044</td>\n",
              "    </tr>\n",
              "    <tr>\n",
              "      <th>73</th>\n",
              "      <td>15_five</td>\n",
              "      <td>-3149.335676</td>\n",
              "      <td>-4885.806348</td>\n",
              "    </tr>\n",
              "    <tr>\n",
              "      <th>74</th>\n",
              "      <td>8_front</td>\n",
              "      <td>-5050.588826</td>\n",
              "      <td>-5273.073680</td>\n",
              "    </tr>\n",
              "    <tr>\n",
              "      <th>75</th>\n",
              "      <td>14_dohcv</td>\n",
              "      <td>-7018.307821</td>\n",
              "      <td>-22882.191453</td>\n",
              "    </tr>\n",
              "  </tbody>\n",
              "</table>\n",
              "<p>76 rows × 3 columns</p>\n",
              "</div>\n",
              "    <div class=\"colab-df-buttons\">\n",
              "\n",
              "  <div class=\"colab-df-container\">\n",
              "    <button class=\"colab-df-convert\" onclick=\"convertToInteractive('df-fcc7d8e5-853e-4e0a-9e0f-0b90ff1245af')\"\n",
              "            title=\"Convert this dataframe to an interactive table.\"\n",
              "            style=\"display:none;\">\n",
              "\n",
              "  <svg xmlns=\"http://www.w3.org/2000/svg\" height=\"24px\" viewBox=\"0 -960 960 960\">\n",
              "    <path d=\"M120-120v-720h720v720H120Zm60-500h600v-160H180v160Zm220 220h160v-160H400v160Zm0 220h160v-160H400v160ZM180-400h160v-160H180v160Zm440 0h160v-160H620v160ZM180-180h160v-160H180v160Zm440 0h160v-160H620v160Z\"/>\n",
              "  </svg>\n",
              "    </button>\n",
              "\n",
              "  <style>\n",
              "    .colab-df-container {\n",
              "      display:flex;\n",
              "      gap: 12px;\n",
              "    }\n",
              "\n",
              "    .colab-df-convert {\n",
              "      background-color: #E8F0FE;\n",
              "      border: none;\n",
              "      border-radius: 50%;\n",
              "      cursor: pointer;\n",
              "      display: none;\n",
              "      fill: #1967D2;\n",
              "      height: 32px;\n",
              "      padding: 0 0 0 0;\n",
              "      width: 32px;\n",
              "    }\n",
              "\n",
              "    .colab-df-convert:hover {\n",
              "      background-color: #E2EBFA;\n",
              "      box-shadow: 0px 1px 2px rgba(60, 64, 67, 0.3), 0px 1px 3px 1px rgba(60, 64, 67, 0.15);\n",
              "      fill: #174EA6;\n",
              "    }\n",
              "\n",
              "    .colab-df-buttons div {\n",
              "      margin-bottom: 4px;\n",
              "    }\n",
              "\n",
              "    [theme=dark] .colab-df-convert {\n",
              "      background-color: #3B4455;\n",
              "      fill: #D2E3FC;\n",
              "    }\n",
              "\n",
              "    [theme=dark] .colab-df-convert:hover {\n",
              "      background-color: #434B5C;\n",
              "      box-shadow: 0px 1px 3px 1px rgba(0, 0, 0, 0.15);\n",
              "      filter: drop-shadow(0px 1px 2px rgba(0, 0, 0, 0.3));\n",
              "      fill: #FFFFFF;\n",
              "    }\n",
              "  </style>\n",
              "\n",
              "    <script>\n",
              "      const buttonEl =\n",
              "        document.querySelector('#df-fcc7d8e5-853e-4e0a-9e0f-0b90ff1245af button.colab-df-convert');\n",
              "      buttonEl.style.display =\n",
              "        google.colab.kernel.accessAllowed ? 'block' : 'none';\n",
              "\n",
              "      async function convertToInteractive(key) {\n",
              "        const element = document.querySelector('#df-fcc7d8e5-853e-4e0a-9e0f-0b90ff1245af');\n",
              "        const dataTable =\n",
              "          await google.colab.kernel.invokeFunction('convertToInteractive',\n",
              "                                                    [key], {});\n",
              "        if (!dataTable) return;\n",
              "\n",
              "        const docLinkHtml = 'Like what you see? Visit the ' +\n",
              "          '<a target=\"_blank\" href=https://colab.research.google.com/notebooks/data_table.ipynb>data table notebook</a>'\n",
              "          + ' to learn more about interactive tables.';\n",
              "        element.innerHTML = '';\n",
              "        dataTable['output_type'] = 'display_data';\n",
              "        await google.colab.output.renderOutput(dataTable, element);\n",
              "        const docLink = document.createElement('div');\n",
              "        docLink.innerHTML = docLinkHtml;\n",
              "        element.appendChild(docLink);\n",
              "      }\n",
              "    </script>\n",
              "  </div>\n",
              "\n",
              "\n",
              "<div id=\"df-3769d853-4587-47de-93bf-7574cd9f054f\">\n",
              "  <button class=\"colab-df-quickchart\" onclick=\"quickchart('df-3769d853-4587-47de-93bf-7574cd9f054f')\"\n",
              "            title=\"Suggest charts\"\n",
              "            style=\"display:none;\">\n",
              "\n",
              "<svg xmlns=\"http://www.w3.org/2000/svg\" height=\"24px\"viewBox=\"0 0 24 24\"\n",
              "     width=\"24px\">\n",
              "    <g>\n",
              "        <path d=\"M19 3H5c-1.1 0-2 .9-2 2v14c0 1.1.9 2 2 2h14c1.1 0 2-.9 2-2V5c0-1.1-.9-2-2-2zM9 17H7v-7h2v7zm4 0h-2V7h2v10zm4 0h-2v-4h2v4z\"/>\n",
              "    </g>\n",
              "</svg>\n",
              "  </button>\n",
              "\n",
              "<style>\n",
              "  .colab-df-quickchart {\n",
              "      --bg-color: #E8F0FE;\n",
              "      --fill-color: #1967D2;\n",
              "      --hover-bg-color: #E2EBFA;\n",
              "      --hover-fill-color: #174EA6;\n",
              "      --disabled-fill-color: #AAA;\n",
              "      --disabled-bg-color: #DDD;\n",
              "  }\n",
              "\n",
              "  [theme=dark] .colab-df-quickchart {\n",
              "      --bg-color: #3B4455;\n",
              "      --fill-color: #D2E3FC;\n",
              "      --hover-bg-color: #434B5C;\n",
              "      --hover-fill-color: #FFFFFF;\n",
              "      --disabled-bg-color: #3B4455;\n",
              "      --disabled-fill-color: #666;\n",
              "  }\n",
              "\n",
              "  .colab-df-quickchart {\n",
              "    background-color: var(--bg-color);\n",
              "    border: none;\n",
              "    border-radius: 50%;\n",
              "    cursor: pointer;\n",
              "    display: none;\n",
              "    fill: var(--fill-color);\n",
              "    height: 32px;\n",
              "    padding: 0;\n",
              "    width: 32px;\n",
              "  }\n",
              "\n",
              "  .colab-df-quickchart:hover {\n",
              "    background-color: var(--hover-bg-color);\n",
              "    box-shadow: 0 1px 2px rgba(60, 64, 67, 0.3), 0 1px 3px 1px rgba(60, 64, 67, 0.15);\n",
              "    fill: var(--button-hover-fill-color);\n",
              "  }\n",
              "\n",
              "  .colab-df-quickchart-complete:disabled,\n",
              "  .colab-df-quickchart-complete:disabled:hover {\n",
              "    background-color: var(--disabled-bg-color);\n",
              "    fill: var(--disabled-fill-color);\n",
              "    box-shadow: none;\n",
              "  }\n",
              "\n",
              "  .colab-df-spinner {\n",
              "    border: 2px solid var(--fill-color);\n",
              "    border-color: transparent;\n",
              "    border-bottom-color: var(--fill-color);\n",
              "    animation:\n",
              "      spin 1s steps(1) infinite;\n",
              "  }\n",
              "\n",
              "  @keyframes spin {\n",
              "    0% {\n",
              "      border-color: transparent;\n",
              "      border-bottom-color: var(--fill-color);\n",
              "      border-left-color: var(--fill-color);\n",
              "    }\n",
              "    20% {\n",
              "      border-color: transparent;\n",
              "      border-left-color: var(--fill-color);\n",
              "      border-top-color: var(--fill-color);\n",
              "    }\n",
              "    30% {\n",
              "      border-color: transparent;\n",
              "      border-left-color: var(--fill-color);\n",
              "      border-top-color: var(--fill-color);\n",
              "      border-right-color: var(--fill-color);\n",
              "    }\n",
              "    40% {\n",
              "      border-color: transparent;\n",
              "      border-right-color: var(--fill-color);\n",
              "      border-top-color: var(--fill-color);\n",
              "    }\n",
              "    60% {\n",
              "      border-color: transparent;\n",
              "      border-right-color: var(--fill-color);\n",
              "    }\n",
              "    80% {\n",
              "      border-color: transparent;\n",
              "      border-right-color: var(--fill-color);\n",
              "      border-bottom-color: var(--fill-color);\n",
              "    }\n",
              "    90% {\n",
              "      border-color: transparent;\n",
              "      border-bottom-color: var(--fill-color);\n",
              "    }\n",
              "  }\n",
              "</style>\n",
              "\n",
              "  <script>\n",
              "    async function quickchart(key) {\n",
              "      const quickchartButtonEl =\n",
              "        document.querySelector('#' + key + ' button');\n",
              "      quickchartButtonEl.disabled = true;  // To prevent multiple clicks.\n",
              "      quickchartButtonEl.classList.add('colab-df-spinner');\n",
              "      try {\n",
              "        const charts = await google.colab.kernel.invokeFunction(\n",
              "            'suggestCharts', [key], {});\n",
              "      } catch (error) {\n",
              "        console.error('Error during call to suggestCharts:', error);\n",
              "      }\n",
              "      quickchartButtonEl.classList.remove('colab-df-spinner');\n",
              "      quickchartButtonEl.classList.add('colab-df-quickchart-complete');\n",
              "    }\n",
              "    (() => {\n",
              "      let quickchartButtonEl =\n",
              "        document.querySelector('#df-3769d853-4587-47de-93bf-7574cd9f054f button');\n",
              "      quickchartButtonEl.style.display =\n",
              "        google.colab.kernel.accessAllowed ? 'block' : 'none';\n",
              "    })();\n",
              "  </script>\n",
              "</div>\n",
              "\n",
              "    </div>\n",
              "  </div>\n"
            ],
            "application/vnd.google.colaboratory.intrinsic+json": {
              "type": "dataframe",
              "summary": "{\n  \"name\": \")\",\n  \"rows\": 76,\n  \"fields\": [\n    {\n      \"column\": \"columns\",\n      \"properties\": {\n        \"dtype\": \"string\",\n        \"num_unique_values\": 76,\n        \"samples\": [\n          \"6_convertible\",\n          \"14_dohc\",\n          \"17_mpfi\"\n        ],\n        \"semantic_type\": \"\",\n        \"description\": \"\"\n      }\n    },\n    {\n      \"column\": \"my_tree\",\n      \"properties\": {\n        \"dtype\": \"number\",\n        \"std\": 2270.8028467009185,\n        \"min\": -7018.307820667196,\n        \"max\": 6922.769448251621,\n        \"num_unique_values\": 76,\n        \"samples\": [\n          4444.782310321242,\n          474.53826189743177,\n          2540.6974602900514\n        ],\n        \"semantic_type\": \"\",\n        \"description\": \"\"\n      }\n    },\n    {\n      \"column\": \"sklearn\",\n      \"properties\": {\n        \"dtype\": \"number\",\n        \"std\": 3848.5599361462596,\n        \"min\": -22882.191452676885,\n        \"max\": 7535.280729635563,\n        \"num_unique_values\": 76,\n        \"samples\": [\n          1328.4770856134628,\n          3841.7604218471133,\n          730.5161500895927\n        ],\n        \"semantic_type\": \"\",\n        \"description\": \"\"\n      }\n    }\n  ]\n}"
            }
          },
          "metadata": {},
          "execution_count": 11
        }
      ]
    },
    {
      "cell_type": "markdown",
      "id": "2a58b933-d1c5-4e70-b5f8-9e60c45bc388",
      "metadata": {
        "id": "2a58b933-d1c5-4e70-b5f8-9e60c45bc388"
      },
      "source": [
        "## Задание №3 (4 балла)\n",
        "\n",
        "Изменить решающее дерево под задачу регрессии (минимизация MSE).\n",
        "\n",
        "Использовать тот же датасет, что и в предыдущем задании."
      ]
    },
    {
      "cell_type": "code",
      "source": [
        "class MyDecisionTree:\n",
        "    LEAF = 1\n",
        "    NON_LEAF = 0\n",
        "\n",
        "    def __init__(self, max_depth=5, criterion=\"mse\", min_samples_split=2) -> None:\n",
        "        self.max_depth = max_depth\n",
        "        self.min_samples_split = min_samples_split\n",
        "        self.criterion = criterion\n",
        "        self.tree = dict()\n",
        "        self.feature_importance = None\n",
        "\n",
        "    def fit(self, X_train, y_train):\n",
        "        X_train = np.array(X_train)\n",
        "        y_train = np.array(y_train)\n",
        "        self.feature_importance = np.zeros(X_train.shape[1])\n",
        "        self.fit_node(X_train, y_train, 0, 0)\n",
        "\n",
        "    def _entropy(self, y):\n",
        "        p = np.bincount(y) / len(y)\n",
        "        p = p[np.where(p > 0)[0]]\n",
        "        return -np.sum(p * np.log(p))\n",
        "\n",
        "    def _gini(self, y):\n",
        "        p = np.bincount(y) / len(y)\n",
        "        return np.sum(p * (1 - p))\n",
        "\n",
        "    def get_entropy_score(self, y_left, y_right):\n",
        "        Hs = []\n",
        "        for split in (y_left, y_right):\n",
        "            H = self._entropy(split)\n",
        "            R = len(split) / (len(y_left) + len(y_right))\n",
        "            Hs.append(R * H)\n",
        "        return np.sum(Hs)\n",
        "\n",
        "    def get_gini_score(self, y_left, y_right):\n",
        "        Hs = []\n",
        "        for split in (y_left, y_right):\n",
        "            H = self._gini(split)\n",
        "            R = len(split) / (len(y_left) + len(y_right))\n",
        "            Hs.append(R * H)\n",
        "        return np.sum(Hs)\n",
        "\n",
        "    def get_mse_score(self, y_left, y_right):\n",
        "        n = len(y_left) + len(y_right)\n",
        "        left_mean = np.mean(y_left) if len(y_left) > 0 else 0\n",
        "        right_mean = np.mean(y_right) if len(y_right) > 0 else 0\n",
        "        mse_left = np.sum((y_left - left_mean) ** 2)\n",
        "        mse_right = np.sum((y_right - right_mean) ** 2)\n",
        "        return len(y_left)/n * mse_left + len(y_right)/n * mse_right\n",
        "\n",
        "    def find_threshold(self, X, y: np.ndarray):\n",
        "        min_criterion = np.inf\n",
        "        feature_split = -1\n",
        "        threshold_split = -1\n",
        "\n",
        "        if self.criterion == \"gini\":\n",
        "            H = self._gini(y)\n",
        "            criterion = self.get_gini_score\n",
        "        elif self.criterion == \"entropy\":\n",
        "            H = self._entropy(y)\n",
        "            criterion = self.get_entropy_score\n",
        "        elif self.criterion == \"mse\":\n",
        "            mean_y = np.mean(y)\n",
        "            H = np.sum((y - mean_y)**2)\n",
        "            criterion = self.get_mse_score\n",
        "        else:\n",
        "            raise RuntimeError(\"invalid criterion type\")\n",
        "\n",
        "        for feat in range(X.shape[1]):\n",
        "            column = X[:, feat]\n",
        "            unique_values = np.unique(column)\n",
        "            for value in unique_values:\n",
        "                left_mask = column <= value\n",
        "                right_mask = column > value\n",
        "                y_left = y[left_mask]\n",
        "                y_right = y[right_mask]\n",
        "                current_criterion = criterion(y_left, y_right)\n",
        "                if current_criterion < min_criterion:\n",
        "                    feature_split = feat\n",
        "                    threshold_split = value\n",
        "                    min_criterion = current_criterion\n",
        "\n",
        "        information_gain = H - min_criterion\n",
        "        if feature_split != -1:\n",
        "            self.feature_importance[feature_split] += information_gain\n",
        "        return feature_split, threshold_split\n",
        "\n",
        "    def make_final_leaf(self, y, node_id):\n",
        "        predict = np.mean(y)\n",
        "        self.tree[node_id] = [self.LEAF, predict]\n",
        "\n",
        "    def fit_node(self, X_train, y_train, node_id, depth):\n",
        "        if depth == self.max_depth - 1 or X_train.shape[0] <= self.min_samples_split:\n",
        "            self.make_final_leaf(y_train, node_id)\n",
        "            return\n",
        "\n",
        "        feature_split, threshold_split = self.find_threshold(X_train, y_train)\n",
        "\n",
        "        if feature_split == -1:\n",
        "            self.make_final_leaf(y_train, node_id)\n",
        "            return\n",
        "\n",
        "        X_left = X_train[X_train[:, feature_split] <= threshold_split]\n",
        "        y_left = y_train[X_train[:, feature_split] <= threshold_split]\n",
        "        X_right = X_train[X_train[:, feature_split] > threshold_split]\n",
        "        y_right = y_train[X_train[:, feature_split] > threshold_split]\n",
        "\n",
        "        if X_left.shape[0] == 0 or X_right.shape[0] == 0:\n",
        "            self.make_final_leaf(y_train, node_id)\n",
        "            return\n",
        "\n",
        "        self.fit_node(X_left, y_left, 2 * node_id + 1, depth + 1)\n",
        "        self.fit_node(X_right, y_right, 2 * node_id + 2, depth + 1)\n",
        "\n",
        "        self.tree[node_id] = [self.NON_LEAF, feature_split, threshold_split]\n",
        "\n",
        "    def predict_one_elem(self, x, node_id):\n",
        "        if self.tree[node_id][0] == self.LEAF:\n",
        "            return self.tree[node_id][1]\n",
        "        else:\n",
        "            _, feature, split = self.tree[node_id]\n",
        "            if x[feature] <= split:\n",
        "                return self.predict_one_elem(x, 2 * node_id + 1)\n",
        "            else:\n",
        "                return self.predict_one_elem(x, 2 * node_id + 2)\n",
        "\n",
        "    def predict(self, X):\n",
        "        return np.array([self.predict_one_elem(x, 0) for x in X])\n"
      ],
      "metadata": {
        "id": "BxlM2oz4X12s"
      },
      "id": "BxlM2oz4X12s",
      "execution_count": 12,
      "outputs": []
    },
    {
      "cell_type": "code",
      "source": [
        "from sklearn.model_selection import train_test_split\n",
        "from sklearn.preprocessing import StandardScaler, RobustScaler\n",
        "from sklearn.metrics import mean_squared_error\n",
        "\n",
        "data = pd.read_csv(\"./imports-85.data\", header=None, na_values=\"?\")\n",
        "\n",
        "X_train, X_test, y_train, y_test = preprocess_data(data)"
      ],
      "metadata": {
        "colab": {
          "base_uri": "https://localhost:8080/",
          "height": 176
        },
        "id": "GgoWQh8OZkFw",
        "outputId": "0f89c946-c5f0-4cc8-8e13-18d3c6bfa695"
      },
      "id": "GgoWQh8OZkFw",
      "execution_count": 13,
      "outputs": [
        {
          "output_type": "error",
          "ename": "ValueError",
          "evalue": "too many values to unpack (expected 4)",
          "traceback": [
            "\u001b[0;31m---------------------------------------------------------------------------\u001b[0m",
            "\u001b[0;31mValueError\u001b[0m                                Traceback (most recent call last)",
            "\u001b[0;32m<ipython-input-13-10e3f5b61b1e>\u001b[0m in \u001b[0;36m<cell line: 7>\u001b[0;34m()\u001b[0m\n\u001b[1;32m      5\u001b[0m \u001b[0mdata\u001b[0m \u001b[0;34m=\u001b[0m \u001b[0mpd\u001b[0m\u001b[0;34m.\u001b[0m\u001b[0mread_csv\u001b[0m\u001b[0;34m(\u001b[0m\u001b[0;34m\"./imports-85.data\"\u001b[0m\u001b[0;34m,\u001b[0m \u001b[0mheader\u001b[0m\u001b[0;34m=\u001b[0m\u001b[0;32mNone\u001b[0m\u001b[0;34m,\u001b[0m \u001b[0mna_values\u001b[0m\u001b[0;34m=\u001b[0m\u001b[0;34m\"?\"\u001b[0m\u001b[0;34m)\u001b[0m\u001b[0;34m\u001b[0m\u001b[0;34m\u001b[0m\u001b[0m\n\u001b[1;32m      6\u001b[0m \u001b[0;34m\u001b[0m\u001b[0m\n\u001b[0;32m----> 7\u001b[0;31m \u001b[0mX_train\u001b[0m\u001b[0;34m,\u001b[0m \u001b[0mX_test\u001b[0m\u001b[0;34m,\u001b[0m \u001b[0my_train\u001b[0m\u001b[0;34m,\u001b[0m \u001b[0my_test\u001b[0m \u001b[0;34m=\u001b[0m \u001b[0mpreprocess_data\u001b[0m\u001b[0;34m(\u001b[0m\u001b[0mdata\u001b[0m\u001b[0;34m)\u001b[0m\u001b[0;34m\u001b[0m\u001b[0;34m\u001b[0m\u001b[0m\n\u001b[0m",
            "\u001b[0;31mValueError\u001b[0m: too many values to unpack (expected 4)"
          ]
        }
      ]
    },
    {
      "cell_type": "markdown",
      "source": [
        "# Мое решение"
      ],
      "metadata": {
        "id": "0Vp_fR5CgHQ3"
      },
      "id": "0Vp_fR5CgHQ3"
    },
    {
      "cell_type": "code",
      "source": [
        "my_tree = MyDecisionTree(max_depth=5, criterion=\"mse\")\n",
        "\n",
        "my_tree.fit(X_train, y_train)\n",
        "mean_squared_error(y_test, my_tree.predict(X_test))"
      ],
      "metadata": {
        "id": "DWsrM3hGZCoO"
      },
      "id": "DWsrM3hGZCoO",
      "execution_count": null,
      "outputs": []
    },
    {
      "cell_type": "markdown",
      "source": [
        "# Sklearn решение"
      ],
      "metadata": {
        "id": "__IRZmU-gIZd"
      },
      "id": "__IRZmU-gIZd"
    },
    {
      "cell_type": "code",
      "source": [
        "from sklearn.tree import DecisionTreeRegressor\n",
        "\n",
        "clf = DecisionTreeRegressor(criterion=\"squared_error\", max_depth=5)\n",
        "\n",
        "clf.fit(X_train, y_train)\n",
        "mean_squared_error(y_test, preds)\n",
        "mean_squared_error(y_test, clf.predict(X_test))"
      ],
      "metadata": {
        "colab": {
          "base_uri": "https://localhost:8080/",
          "height": 193
        },
        "id": "R_m6IKYLa8bC",
        "outputId": "a14b95fa-f292-48c4-d1b6-fda32c8952be"
      },
      "id": "R_m6IKYLa8bC",
      "execution_count": 14,
      "outputs": [
        {
          "output_type": "error",
          "ename": "NameError",
          "evalue": "name 'preds' is not defined",
          "traceback": [
            "\u001b[0;31m---------------------------------------------------------------------------\u001b[0m",
            "\u001b[0;31mNameError\u001b[0m                                 Traceback (most recent call last)",
            "\u001b[0;32m<ipython-input-14-7a962a99bded>\u001b[0m in \u001b[0;36m<cell line: 6>\u001b[0;34m()\u001b[0m\n\u001b[1;32m      4\u001b[0m \u001b[0;34m\u001b[0m\u001b[0m\n\u001b[1;32m      5\u001b[0m \u001b[0mclf\u001b[0m\u001b[0;34m.\u001b[0m\u001b[0mfit\u001b[0m\u001b[0;34m(\u001b[0m\u001b[0mX_train\u001b[0m\u001b[0;34m,\u001b[0m \u001b[0my_train\u001b[0m\u001b[0;34m)\u001b[0m\u001b[0;34m\u001b[0m\u001b[0;34m\u001b[0m\u001b[0m\n\u001b[0;32m----> 6\u001b[0;31m \u001b[0mmean_squared_error\u001b[0m\u001b[0;34m(\u001b[0m\u001b[0my_test\u001b[0m\u001b[0;34m,\u001b[0m \u001b[0mpreds\u001b[0m\u001b[0;34m)\u001b[0m\u001b[0;34m\u001b[0m\u001b[0;34m\u001b[0m\u001b[0m\n\u001b[0m\u001b[1;32m      7\u001b[0m \u001b[0mmean_squared_error\u001b[0m\u001b[0;34m(\u001b[0m\u001b[0my_test\u001b[0m\u001b[0;34m,\u001b[0m \u001b[0mclf\u001b[0m\u001b[0;34m.\u001b[0m\u001b[0mpredict\u001b[0m\u001b[0;34m(\u001b[0m\u001b[0mX_test\u001b[0m\u001b[0;34m)\u001b[0m\u001b[0;34m)\u001b[0m\u001b[0;34m\u001b[0m\u001b[0;34m\u001b[0m\u001b[0m\n",
            "\u001b[0;31mNameError\u001b[0m: name 'preds' is not defined"
          ]
        }
      ]
    },
    {
      "cell_type": "markdown",
      "source": [
        "# Feature importance"
      ],
      "metadata": {
        "id": "ZtBm1kBEgJk7"
      },
      "id": "ZtBm1kBEgJk7"
    },
    {
      "cell_type": "code",
      "source": [
        "pd.DataFrame(\n",
        "    {\n",
        "        \"columns\": data_encoded.drop(columns=[\"25\"]).columns,\n",
        "        \"my_tree\": my_tree.feature_importance/10**10,\n",
        "        \"sklearn\": clf.feature_importances_,\n",
        "    }\n",
        ").sort_values(by=\"my_tree\", ascending=False).reset_index(drop=True)"
      ],
      "metadata": {
        "colab": {
          "base_uri": "https://localhost:8080/",
          "height": 211
        },
        "id": "KLo8tS_uZKxJ",
        "outputId": "b8f3b9fc-089e-4da0-aca9-4efd893d1d58"
      },
      "id": "KLo8tS_uZKxJ",
      "execution_count": 15,
      "outputs": [
        {
          "output_type": "error",
          "ename": "NameError",
          "evalue": "name 'data_encoded' is not defined",
          "traceback": [
            "\u001b[0;31m---------------------------------------------------------------------------\u001b[0m",
            "\u001b[0;31mNameError\u001b[0m                                 Traceback (most recent call last)",
            "\u001b[0;32m<ipython-input-15-ecba33a45520>\u001b[0m in \u001b[0;36m<cell line: 1>\u001b[0;34m()\u001b[0m\n\u001b[1;32m      1\u001b[0m pd.DataFrame(\n\u001b[1;32m      2\u001b[0m     {\n\u001b[0;32m----> 3\u001b[0;31m         \u001b[0;34m\"columns\"\u001b[0m\u001b[0;34m:\u001b[0m \u001b[0mdata_encoded\u001b[0m\u001b[0;34m.\u001b[0m\u001b[0mdrop\u001b[0m\u001b[0;34m(\u001b[0m\u001b[0mcolumns\u001b[0m\u001b[0;34m=\u001b[0m\u001b[0;34m[\u001b[0m\u001b[0;34m\"25\"\u001b[0m\u001b[0;34m]\u001b[0m\u001b[0;34m)\u001b[0m\u001b[0;34m.\u001b[0m\u001b[0mcolumns\u001b[0m\u001b[0;34m,\u001b[0m\u001b[0;34m\u001b[0m\u001b[0;34m\u001b[0m\u001b[0m\n\u001b[0m\u001b[1;32m      4\u001b[0m         \u001b[0;34m\"my_tree\"\u001b[0m\u001b[0;34m:\u001b[0m \u001b[0mmy_tree\u001b[0m\u001b[0;34m.\u001b[0m\u001b[0mfeature_importance\u001b[0m\u001b[0;34m/\u001b[0m\u001b[0;36m10\u001b[0m\u001b[0;34m**\u001b[0m\u001b[0;36m10\u001b[0m\u001b[0;34m,\u001b[0m\u001b[0;34m\u001b[0m\u001b[0;34m\u001b[0m\u001b[0m\n\u001b[1;32m      5\u001b[0m         \u001b[0;34m\"sklearn\"\u001b[0m\u001b[0;34m:\u001b[0m \u001b[0mclf\u001b[0m\u001b[0;34m.\u001b[0m\u001b[0mfeature_importances_\u001b[0m\u001b[0;34m,\u001b[0m\u001b[0;34m\u001b[0m\u001b[0;34m\u001b[0m\u001b[0m\n",
            "\u001b[0;31mNameError\u001b[0m: name 'data_encoded' is not defined"
          ]
        }
      ]
    },
    {
      "cell_type": "markdown",
      "source": [
        "Feature importance совпадает => все реализовано корректно\n",
        "\n",
        "Лоссы различаются за счет различия реализации в sklearn и у меня (как минимум в sklearn'e используется RMSE). Но главное в том - что они одного порядка"
      ],
      "metadata": {
        "id": "xQtuOEaVgK4m"
      },
      "id": "xQtuOEaVgK4m"
    },
    {
      "cell_type": "code",
      "source": [],
      "metadata": {
        "id": "zCVeZ648gQwc"
      },
      "id": "zCVeZ648gQwc",
      "execution_count": null,
      "outputs": []
    }
  ],
  "metadata": {
    "kernelspec": {
      "display_name": "Python 3 (ipykernel)",
      "language": "python",
      "name": "python3"
    },
    "language_info": {
      "codemirror_mode": {
        "name": "ipython",
        "version": 3
      },
      "file_extension": ".py",
      "mimetype": "text/x-python",
      "name": "python",
      "nbconvert_exporter": "python",
      "pygments_lexer": "ipython3",
      "version": "3.12.7"
    },
    "colab": {
      "provenance": []
    }
  },
  "nbformat": 4,
  "nbformat_minor": 5
}