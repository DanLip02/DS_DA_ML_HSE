{
 "cells": [
  {
   "cell_type": "markdown",
   "id": "80547322-bad1-4a2e-afdb-86ab3b26005f",
   "metadata": {},
   "source": [
    "# Контрольная работа №1\n",
    "\n",
    "Время на выполнение 1 час 20 минут."
   ]
  },
  {
   "cell_type": "code",
   "execution_count": null,
   "id": "237a3154-a3a0-44e0-ab33-de7a216c8661",
   "metadata": {},
   "outputs": [],
   "source": [
    "import pandas as pd\n",
    "import numpy as np\n",
    "from sklearn.datasets import load_wine"
   ]
  },
  {
   "cell_type": "markdown",
   "id": "2e036250-9515-4422-b94a-5fe0b51e8052",
   "metadata": {},
   "source": [
    "## Задание №1 (3 балла)\n",
    "\n",
    "Реализовать алгоритм классификации KNN для мультиклассовой классификации с методом `predict_proba` для предсказания вероятностей классов.\n",
    "\n",
    "Использовать датасет Wine (`load_wine` из `sklearn.datasets`)."
   ]
  },
  {
   "cell_type": "markdown",
   "id": "8d94879a-fbed-44e5-8fb6-2fe560d706a3",
   "metadata": {},
   "source": [
    "## Задание №2 (3 балла)\n",
    "\n",
    "В линейной регрессии оценить влияние признаков на результат.\n",
    "\n",
    "Использовать датасет <https://archive.ics.uci.edu/dataset/10/automobile> (из файла `imports-85.data`)"
   ]
  },
  {
   "cell_type": "markdown",
   "id": "2a58b933-d1c5-4e70-b5f8-9e60c45bc388",
   "metadata": {},
   "source": [
    "## Задание №3 (4 балла)\n",
    "\n",
    "Изменить решающее дерево под задачу регрессии (минимизация MSE).\n",
    "\n",
    "Использовать тот же датасет, что и в предыдущем задании."
   ]
  }
 ],
 "metadata": {
  "kernelspec": {
   "display_name": "Python 3 (ipykernel)",
   "language": "python",
   "name": "python3"
  },
  "language_info": {
   "codemirror_mode": {
    "name": "ipython",
    "version": 3
   },
   "file_extension": ".py",
   "mimetype": "text/x-python",
   "name": "python",
   "nbconvert_exporter": "python",
   "pygments_lexer": "ipython3",
   "version": "3.12.7"
  },
  "widgets": {
   "application/vnd.jupyter.widget-state+json": {
    "state": {},
    "version_major": 2,
    "version_minor": 0
   }
  }
 },
 "nbformat": 4,
 "nbformat_minor": 5
}
