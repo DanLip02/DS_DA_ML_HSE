{
 "cells": [
  {
   "cell_type": "code",
   "execution_count": 1,
   "id": "c7e18536-d380-4415-aa07-3802d8d3e4e0",
   "metadata": {},
   "outputs": [],
   "source": [
    "import pandas as pd "
   ]
  },
  {
   "cell_type": "code",
   "execution_count": 118,
   "id": "ec43d548-0550-41d2-a2a8-33ca1d17f1bc",
   "metadata": {},
   "outputs": [],
   "source": [
    "crime_ = pd.read_csv('crime_scene_report.csv')\n",
    "driver_ = pd.read_csv('drivers_license.csv')\n",
    "facebook_ = pd.read_csv('facebook_event_checkin.csv')\n",
    "get_fit_in = pd.read_csv('get_fit_now_check_in.csv')\n",
    "get_fit_mem = pd.read_csv('get_fit_now_member.csv')\n",
    "income = pd.read_csv('income.csv')\n",
    "interview = pd.read_csv('interview.csv')\n",
    "person = pd.read_csv('person.csv')"
   ]
  },
  {
   "cell_type": "code",
   "execution_count": 32,
   "id": "55c2fee7-7bee-4160-8b18-43fc8c10c3c4",
   "metadata": {},
   "outputs": [
    {
     "data": {
      "text/html": [
       "<div>\n",
       "<style scoped>\n",
       "    .dataframe tbody tr th:only-of-type {\n",
       "        vertical-align: middle;\n",
       "    }\n",
       "\n",
       "    .dataframe tbody tr th {\n",
       "        vertical-align: top;\n",
       "    }\n",
       "\n",
       "    .dataframe thead th {\n",
       "        text-align: right;\n",
       "    }\n",
       "</style>\n",
       "<table border=\"1\" class=\"dataframe\">\n",
       "  <thead>\n",
       "    <tr style=\"text-align: right;\">\n",
       "      <th></th>\n",
       "      <th>date</th>\n",
       "      <th>type</th>\n",
       "      <th>description</th>\n",
       "      <th>city</th>\n",
       "    </tr>\n",
       "  </thead>\n",
       "  <tbody>\n",
       "    <tr>\n",
       "      <th>0</th>\n",
       "      <td>20180115</td>\n",
       "      <td>robbery</td>\n",
       "      <td>A Man Dressed as Spider-Man Is on a Robbery Spree</td>\n",
       "      <td>NYC</td>\n",
       "    </tr>\n",
       "    <tr>\n",
       "      <th>1</th>\n",
       "      <td>20180115</td>\n",
       "      <td>murder</td>\n",
       "      <td>Life? Dont talk to me about life.</td>\n",
       "      <td>Albany</td>\n",
       "    </tr>\n",
       "    <tr>\n",
       "      <th>2</th>\n",
       "      <td>20180115</td>\n",
       "      <td>murder</td>\n",
       "      <td>Mama, I killed a man, put a gun against his he...</td>\n",
       "      <td>Reno</td>\n",
       "    </tr>\n",
       "    <tr>\n",
       "      <th>3</th>\n",
       "      <td>20180215</td>\n",
       "      <td>murder</td>\n",
       "      <td>REDACTED REDACTED REDACTED</td>\n",
       "      <td>SQL City</td>\n",
       "    </tr>\n",
       "    <tr>\n",
       "      <th>4</th>\n",
       "      <td>20180215</td>\n",
       "      <td>murder</td>\n",
       "      <td>Someone killed the guard! He took an arrow to ...</td>\n",
       "      <td>SQL City</td>\n",
       "    </tr>\n",
       "    <tr>\n",
       "      <th>5</th>\n",
       "      <td>20180115</td>\n",
       "      <td>theft</td>\n",
       "      <td>Big Bully stole my lunch money!</td>\n",
       "      <td>Chicago</td>\n",
       "    </tr>\n",
       "    <tr>\n",
       "      <th>6</th>\n",
       "      <td>20180115</td>\n",
       "      <td>fraud</td>\n",
       "      <td>Lorem ipsum dolor sit amet, consectetur adipis...</td>\n",
       "      <td>Seattle</td>\n",
       "    </tr>\n",
       "    <tr>\n",
       "      <th>7</th>\n",
       "      <td>20170712</td>\n",
       "      <td>theft</td>\n",
       "      <td>A lone hunter stalks the night, firing arrows ...</td>\n",
       "      <td>SQL City</td>\n",
       "    </tr>\n",
       "    <tr>\n",
       "      <th>8</th>\n",
       "      <td>20170820</td>\n",
       "      <td>arson</td>\n",
       "      <td>Wield the Hammer of Sol with honor, Titan, it ...</td>\n",
       "      <td>SQL City</td>\n",
       "    </tr>\n",
       "    <tr>\n",
       "      <th>9</th>\n",
       "      <td>20171110</td>\n",
       "      <td>robbery</td>\n",
       "      <td>The Gjallarhorn shoulder-mounted rocket system...</td>\n",
       "      <td>SQL City</td>\n",
       "    </tr>\n",
       "  </tbody>\n",
       "</table>\n",
       "</div>"
      ],
      "text/plain": [
       "       date     type                                        description  \\\n",
       "0  20180115  robbery  A Man Dressed as Spider-Man Is on a Robbery Spree   \n",
       "1  20180115   murder                  Life? Dont talk to me about life.   \n",
       "2  20180115   murder  Mama, I killed a man, put a gun against his he...   \n",
       "3  20180215   murder                         REDACTED REDACTED REDACTED   \n",
       "4  20180215   murder  Someone killed the guard! He took an arrow to ...   \n",
       "5  20180115    theft                    Big Bully stole my lunch money!   \n",
       "6  20180115    fraud  Lorem ipsum dolor sit amet, consectetur adipis...   \n",
       "7  20170712    theft  A lone hunter stalks the night, firing arrows ...   \n",
       "8  20170820    arson  Wield the Hammer of Sol with honor, Titan, it ...   \n",
       "9  20171110  robbery  The Gjallarhorn shoulder-mounted rocket system...   \n",
       "\n",
       "       city  \n",
       "0       NYC  \n",
       "1    Albany  \n",
       "2      Reno  \n",
       "3  SQL City  \n",
       "4  SQL City  \n",
       "5   Chicago  \n",
       "6   Seattle  \n",
       "7  SQL City  \n",
       "8  SQL City  \n",
       "9  SQL City  "
      ]
     },
     "execution_count": 32,
     "metadata": {},
     "output_type": "execute_result"
    }
   ],
   "source": [
    "crime_.head(10)\n"
   ]
  },
  {
   "cell_type": "code",
   "execution_count": 44,
   "id": "2332a657-c2d6-4221-a8cb-a46584badb59",
   "metadata": {
    "scrolled": true
   },
   "outputs": [
    {
     "data": {
      "text/plain": [
       "9"
      ]
     },
     "execution_count": 44,
     "metadata": {},
     "output_type": "execute_result"
    }
   ],
   "source": [
    "len(crime_[crime_[\"city\"] == \"SQL City\"])"
   ]
  },
  {
   "cell_type": "markdown",
   "id": "6ef5c2d7-7afe-494d-a2c0-5dc3f6c2fe59",
   "metadata": {},
   "source": [
    "Посмотрим на преступления в нашем городе"
   ]
  },
  {
   "cell_type": "code",
   "execution_count": 36,
   "id": "7a9e6aea-efb3-4212-884d-98ee58363045",
   "metadata": {
    "scrolled": true
   },
   "outputs": [
    {
     "data": {
      "text/html": [
       "<div>\n",
       "<style scoped>\n",
       "    .dataframe tbody tr th:only-of-type {\n",
       "        vertical-align: middle;\n",
       "    }\n",
       "\n",
       "    .dataframe tbody tr th {\n",
       "        vertical-align: top;\n",
       "    }\n",
       "\n",
       "    .dataframe thead th {\n",
       "        text-align: right;\n",
       "    }\n",
       "</style>\n",
       "<table border=\"1\" class=\"dataframe\">\n",
       "  <thead>\n",
       "    <tr style=\"text-align: right;\">\n",
       "      <th></th>\n",
       "      <th>date</th>\n",
       "      <th>type</th>\n",
       "      <th>description</th>\n",
       "      <th>city</th>\n",
       "    </tr>\n",
       "  </thead>\n",
       "  <tbody>\n",
       "    <tr>\n",
       "      <th>3</th>\n",
       "      <td>20180215</td>\n",
       "      <td>murder</td>\n",
       "      <td>REDACTED REDACTED REDACTED</td>\n",
       "      <td>SQL City</td>\n",
       "    </tr>\n",
       "    <tr>\n",
       "      <th>4</th>\n",
       "      <td>20180215</td>\n",
       "      <td>murder</td>\n",
       "      <td>Someone killed the guard! He took an arrow to ...</td>\n",
       "      <td>SQL City</td>\n",
       "    </tr>\n",
       "    <tr>\n",
       "      <th>7</th>\n",
       "      <td>20170712</td>\n",
       "      <td>theft</td>\n",
       "      <td>A lone hunter stalks the night, firing arrows ...</td>\n",
       "      <td>SQL City</td>\n",
       "    </tr>\n",
       "    <tr>\n",
       "      <th>8</th>\n",
       "      <td>20170820</td>\n",
       "      <td>arson</td>\n",
       "      <td>Wield the Hammer of Sol with honor, Titan, it ...</td>\n",
       "      <td>SQL City</td>\n",
       "    </tr>\n",
       "    <tr>\n",
       "      <th>9</th>\n",
       "      <td>20171110</td>\n",
       "      <td>robbery</td>\n",
       "      <td>The Gjallarhorn shoulder-mounted rocket system...</td>\n",
       "      <td>SQL City</td>\n",
       "    </tr>\n",
       "    <tr>\n",
       "      <th>10</th>\n",
       "      <td>20180103</td>\n",
       "      <td>bribery</td>\n",
       "      <td>Apparently, Cayde thought it necessary to expo...</td>\n",
       "      <td>SQL City</td>\n",
       "    </tr>\n",
       "    <tr>\n",
       "      <th>11</th>\n",
       "      <td>20180115</td>\n",
       "      <td>assault</td>\n",
       "      <td>Hamilton: Lee, do you yield? Burr: You shot hi...</td>\n",
       "      <td>SQL City</td>\n",
       "    </tr>\n",
       "    <tr>\n",
       "      <th>12</th>\n",
       "      <td>20180115</td>\n",
       "      <td>assault</td>\n",
       "      <td>Report Not Found</td>\n",
       "      <td>SQL City</td>\n",
       "    </tr>\n",
       "    <tr>\n",
       "      <th>1227</th>\n",
       "      <td>20180115</td>\n",
       "      <td>murder</td>\n",
       "      <td>Security footage shows that there were 2 witne...</td>\n",
       "      <td>SQL City</td>\n",
       "    </tr>\n",
       "  </tbody>\n",
       "</table>\n",
       "</div>"
      ],
      "text/plain": [
       "          date     type                                        description  \\\n",
       "3     20180215   murder                         REDACTED REDACTED REDACTED   \n",
       "4     20180215   murder  Someone killed the guard! He took an arrow to ...   \n",
       "7     20170712    theft  A lone hunter stalks the night, firing arrows ...   \n",
       "8     20170820    arson  Wield the Hammer of Sol with honor, Titan, it ...   \n",
       "9     20171110  robbery  The Gjallarhorn shoulder-mounted rocket system...   \n",
       "10    20180103  bribery  Apparently, Cayde thought it necessary to expo...   \n",
       "11    20180115  assault  Hamilton: Lee, do you yield? Burr: You shot hi...   \n",
       "12    20180115  assault                                   Report Not Found   \n",
       "1227  20180115   murder  Security footage shows that there were 2 witne...   \n",
       "\n",
       "          city  \n",
       "3     SQL City  \n",
       "4     SQL City  \n",
       "7     SQL City  \n",
       "8     SQL City  \n",
       "9     SQL City  \n",
       "10    SQL City  \n",
       "11    SQL City  \n",
       "12    SQL City  \n",
       "1227  SQL City  "
      ]
     },
     "execution_count": 36,
     "metadata": {},
     "output_type": "execute_result"
    }
   ],
   "source": [
    "crime_[crime_[\"city\"] == \"SQL City\"]"
   ]
  },
  {
   "cell_type": "markdown",
   "id": "be49819d-f81a-40f6-be19-f5386f3a29fc",
   "metadata": {},
   "source": [
    "Нас интересует убийство"
   ]
  },
  {
   "cell_type": "code",
   "execution_count": 344,
   "id": "29f6475d-af6b-4eeb-b547-8622ea69eab4",
   "metadata": {},
   "outputs": [
    {
     "data": {
      "text/html": [
       "<div>\n",
       "<style scoped>\n",
       "    .dataframe tbody tr th:only-of-type {\n",
       "        vertical-align: middle;\n",
       "    }\n",
       "\n",
       "    .dataframe tbody tr th {\n",
       "        vertical-align: top;\n",
       "    }\n",
       "\n",
       "    .dataframe thead th {\n",
       "        text-align: right;\n",
       "    }\n",
       "</style>\n",
       "<table border=\"1\" class=\"dataframe\">\n",
       "  <thead>\n",
       "    <tr style=\"text-align: right;\">\n",
       "      <th></th>\n",
       "      <th>date</th>\n",
       "      <th>type</th>\n",
       "      <th>description</th>\n",
       "      <th>city</th>\n",
       "    </tr>\n",
       "  </thead>\n",
       "  <tbody>\n",
       "    <tr>\n",
       "      <th>3</th>\n",
       "      <td>20180215</td>\n",
       "      <td>murder</td>\n",
       "      <td>REDACTED REDACTED REDACTED</td>\n",
       "      <td>SQL City</td>\n",
       "    </tr>\n",
       "    <tr>\n",
       "      <th>4</th>\n",
       "      <td>20180215</td>\n",
       "      <td>murder</td>\n",
       "      <td>Someone killed the guard! He took an arrow to ...</td>\n",
       "      <td>SQL City</td>\n",
       "    </tr>\n",
       "    <tr>\n",
       "      <th>1227</th>\n",
       "      <td>20180115</td>\n",
       "      <td>murder</td>\n",
       "      <td>Security footage shows that there were 2 witne...</td>\n",
       "      <td>SQL City</td>\n",
       "    </tr>\n",
       "  </tbody>\n",
       "</table>\n",
       "</div>"
      ],
      "text/plain": [
       "          date    type                                        description  \\\n",
       "3     20180215  murder                         REDACTED REDACTED REDACTED   \n",
       "4     20180215  murder  Someone killed the guard! He took an arrow to ...   \n",
       "1227  20180115  murder  Security footage shows that there were 2 witne...   \n",
       "\n",
       "          city  \n",
       "3     SQL City  \n",
       "4     SQL City  \n",
       "1227  SQL City  "
      ]
     },
     "execution_count": 344,
     "metadata": {},
     "output_type": "execute_result"
    }
   ],
   "source": [
    "crime_[(crime_[\"city\"] == \"SQL City\") & (crime_[\"type\"] == \"murder\")]"
   ]
  },
  {
   "cell_type": "markdown",
   "id": "a27673eb-3b51-45fc-b7b1-7ed23c1dd4ac",
   "metadata": {},
   "source": [
    "Зная дату убийства хотим понять сколько их было, найти зацепку-бы"
   ]
  },
  {
   "cell_type": "code",
   "execution_count": 56,
   "id": "7cb8cac9-0605-4492-8999-6c831e6249b6",
   "metadata": {},
   "outputs": [
    {
     "data": {
      "text/html": [
       "<div>\n",
       "<style scoped>\n",
       "    .dataframe tbody tr th:only-of-type {\n",
       "        vertical-align: middle;\n",
       "    }\n",
       "\n",
       "    .dataframe tbody tr th {\n",
       "        vertical-align: top;\n",
       "    }\n",
       "\n",
       "    .dataframe thead th {\n",
       "        text-align: right;\n",
       "    }\n",
       "</style>\n",
       "<table border=\"1\" class=\"dataframe\">\n",
       "  <thead>\n",
       "    <tr style=\"text-align: right;\">\n",
       "      <th></th>\n",
       "      <th>date</th>\n",
       "      <th>type</th>\n",
       "      <th>description</th>\n",
       "      <th>city</th>\n",
       "    </tr>\n",
       "  </thead>\n",
       "  <tbody>\n",
       "    <tr>\n",
       "      <th>1227</th>\n",
       "      <td>20180115</td>\n",
       "      <td>murder</td>\n",
       "      <td>Security footage shows that there were 2 witne...</td>\n",
       "      <td>SQL City</td>\n",
       "    </tr>\n",
       "  </tbody>\n",
       "</table>\n",
       "</div>"
      ],
      "text/plain": [
       "          date    type                                        description  \\\n",
       "1227  20180115  murder  Security footage shows that there were 2 witne...   \n",
       "\n",
       "          city  \n",
       "1227  SQL City  "
      ]
     },
     "execution_count": 56,
     "metadata": {},
     "output_type": "execute_result"
    }
   ],
   "source": [
    "crime_[(crime_[\"city\"] == \"SQL City\") & (crime_[\"type\"] == \"murder\") & (crime_[\"date\"] == 20180115)]"
   ]
  },
  {
   "cell_type": "code",
   "execution_count": 181,
   "id": "043373e1-5324-4f8a-b025-771852393ba9",
   "metadata": {},
   "outputs": [
    {
     "data": {
      "text/plain": [
       "'Security footage shows that there were 2 witnesses. The first witness lives at the last house on \"Northwestern Dr\". The second witness, named Annabel, lives somewhere on \"Franklin Ave\".'"
      ]
     },
     "execution_count": 181,
     "metadata": {},
     "output_type": "execute_result"
    }
   ],
   "source": [
    "crime_[(crime_[\"city\"] == \"SQL City\") & (crime_[\"type\"] == \"murder\") & (crime_[\"date\"] == 20180115)].reset_index(drop=True)[\"description\"][0]"
   ]
  },
  {
   "cell_type": "markdown",
   "id": "c9eb589f-f74f-42b7-a972-c38c521fcff0",
   "metadata": {},
   "source": [
    "Свидетель # 2 (Annabel)"
   ]
  },
  {
   "cell_type": "code",
   "execution_count": 200,
   "id": "dc3b6129-77b9-4ec6-b930-0cef17e00b7f",
   "metadata": {},
   "outputs": [
    {
     "data": {
      "text/html": [
       "<div>\n",
       "<style scoped>\n",
       "    .dataframe tbody tr th:only-of-type {\n",
       "        vertical-align: middle;\n",
       "    }\n",
       "\n",
       "    .dataframe tbody tr th {\n",
       "        vertical-align: top;\n",
       "    }\n",
       "\n",
       "    .dataframe thead th {\n",
       "        text-align: right;\n",
       "    }\n",
       "</style>\n",
       "<table border=\"1\" class=\"dataframe\">\n",
       "  <thead>\n",
       "    <tr style=\"text-align: right;\">\n",
       "      <th></th>\n",
       "      <th>id</th>\n",
       "      <th>name</th>\n",
       "      <th>license_id</th>\n",
       "      <th>address_number</th>\n",
       "      <th>address_street_name</th>\n",
       "      <th>ssn</th>\n",
       "    </tr>\n",
       "  </thead>\n",
       "  <tbody>\n",
       "    <tr>\n",
       "      <th>665</th>\n",
       "      <td>16371</td>\n",
       "      <td>Annabel Miller</td>\n",
       "      <td>490173</td>\n",
       "      <td>103</td>\n",
       "      <td>Franklin Ave</td>\n",
       "      <td>318771143</td>\n",
       "    </tr>\n",
       "  </tbody>\n",
       "</table>\n",
       "</div>"
      ],
      "text/plain": [
       "        id            name  license_id  address_number address_street_name  \\\n",
       "665  16371  Annabel Miller      490173             103        Franklin Ave   \n",
       "\n",
       "           ssn  \n",
       "665  318771143  "
      ]
     },
     "execution_count": 200,
     "metadata": {},
     "output_type": "execute_result"
    }
   ],
   "source": [
    "person[(person[\"name\"].str.contains(\"Annabel\")) & (person[\"address_street_name\"] == \"Franklin Ave\")]\n"
   ]
  },
  {
   "cell_type": "code",
   "execution_count": 244,
   "id": "03847c0f-af9c-4655-a5f5-7e4b51b26905",
   "metadata": {},
   "outputs": [],
   "source": [
    "id_2 = person[(person[\"name\"].str.contains(\"Annabel\")) & (person[\"address_street_name\"] == \"Franklin Ave\")].reset_index(drop=True)[\"id\"][0]"
   ]
  },
  {
   "cell_type": "markdown",
   "id": "ea2114c0-88df-4c98-8870-104de97523bf",
   "metadata": {},
   "source": [
    "Свидетель # 1 (\"Northwestern Dr\"), который живет в последнем доме"
   ]
  },
  {
   "cell_type": "code",
   "execution_count": 275,
   "id": "9a66d0a0-7b9a-4d47-86c7-902da1d99edb",
   "metadata": {
    "scrolled": true
   },
   "outputs": [
    {
     "data": {
      "text/html": [
       "<div>\n",
       "<style scoped>\n",
       "    .dataframe tbody tr th:only-of-type {\n",
       "        vertical-align: middle;\n",
       "    }\n",
       "\n",
       "    .dataframe tbody tr th {\n",
       "        vertical-align: top;\n",
       "    }\n",
       "\n",
       "    .dataframe thead th {\n",
       "        text-align: right;\n",
       "    }\n",
       "</style>\n",
       "<table border=\"1\" class=\"dataframe\">\n",
       "  <thead>\n",
       "    <tr style=\"text-align: right;\">\n",
       "      <th></th>\n",
       "      <th>id</th>\n",
       "      <th>name</th>\n",
       "      <th>license_id</th>\n",
       "      <th>address_number</th>\n",
       "      <th>address_street_name</th>\n",
       "      <th>ssn</th>\n",
       "    </tr>\n",
       "  </thead>\n",
       "  <tbody>\n",
       "    <tr>\n",
       "      <th>0</th>\n",
       "      <td>14887</td>\n",
       "      <td>Morty Schapiro</td>\n",
       "      <td>118009</td>\n",
       "      <td>4919</td>\n",
       "      <td>Northwestern Dr</td>\n",
       "      <td>111564949</td>\n",
       "    </tr>\n",
       "  </tbody>\n",
       "</table>\n",
       "</div>"
      ],
      "text/plain": [
       "      id            name  license_id  address_number address_street_name  \\\n",
       "0  14887  Morty Schapiro      118009            4919     Northwestern Dr   \n",
       "\n",
       "         ssn  \n",
       "0  111564949  "
      ]
     },
     "execution_count": 275,
     "metadata": {},
     "output_type": "execute_result"
    }
   ],
   "source": [
    "person[(person[\"address_street_name\"] == \"Northwestern Dr\")].sort_values(by=\"address_number\", ascending=False).reset_index(drop=True).iloc[[0]]"
   ]
  },
  {
   "cell_type": "code",
   "execution_count": 248,
   "id": "fc483638-8b34-4234-af74-a788cd8aff74",
   "metadata": {},
   "outputs": [],
   "source": [
    "id_1 = person[(person[\"address_street_name\"] == \"Northwestern Dr\")].sort_values(by=\"address_number\", ascending=False).reset_index(drop=True).iloc[[0]][\"id\"][0]"
   ]
  },
  {
   "cell_type": "markdown",
   "id": "b1a9241c-cbf6-4ade-8e16-4a2d91998f50",
   "metadata": {},
   "source": [
    "Найдем их показания"
   ]
  },
  {
   "cell_type": "code",
   "execution_count": 283,
   "id": "38ffd269-91f4-4bea-bde5-7f60ee2d4e44",
   "metadata": {},
   "outputs": [
    {
     "data": {
      "text/html": [
       "<div>\n",
       "<style scoped>\n",
       "    .dataframe tbody tr th:only-of-type {\n",
       "        vertical-align: middle;\n",
       "    }\n",
       "\n",
       "    .dataframe tbody tr th {\n",
       "        vertical-align: top;\n",
       "    }\n",
       "\n",
       "    .dataframe thead th {\n",
       "        text-align: right;\n",
       "    }\n",
       "</style>\n",
       "<table border=\"1\" class=\"dataframe\">\n",
       "  <thead>\n",
       "    <tr style=\"text-align: right;\">\n",
       "      <th></th>\n",
       "      <th>person_id</th>\n",
       "      <th>transcript</th>\n",
       "    </tr>\n",
       "  </thead>\n",
       "  <tbody>\n",
       "    <tr>\n",
       "      <th>0</th>\n",
       "      <td>28508</td>\n",
       "      <td>‘I deny it!’ said the March Hare.\\n</td>\n",
       "    </tr>\n",
       "    <tr>\n",
       "      <th>1</th>\n",
       "      <td>63713</td>\n",
       "      <td>\\n</td>\n",
       "    </tr>\n",
       "    <tr>\n",
       "      <th>2</th>\n",
       "      <td>86208</td>\n",
       "      <td>way, and the whole party swam to the shore.\\n</td>\n",
       "    </tr>\n",
       "    <tr>\n",
       "      <th>3</th>\n",
       "      <td>35267</td>\n",
       "      <td>lessons in here? Why, there’s hardly room for ...</td>\n",
       "    </tr>\n",
       "    <tr>\n",
       "      <th>4</th>\n",
       "      <td>33856</td>\n",
       "      <td>\\n</td>\n",
       "    </tr>\n",
       "    <tr>\n",
       "      <th>5</th>\n",
       "      <td>82799</td>\n",
       "      <td>\\n</td>\n",
       "    </tr>\n",
       "    <tr>\n",
       "      <th>6</th>\n",
       "      <td>66493</td>\n",
       "      <td>would be offended again.\\n</td>\n",
       "    </tr>\n",
       "    <tr>\n",
       "      <th>7</th>\n",
       "      <td>46263</td>\n",
       "      <td>‘So he did, so he did,’ said the Gryphon, sigh...</td>\n",
       "    </tr>\n",
       "    <tr>\n",
       "      <th>8</th>\n",
       "      <td>54263</td>\n",
       "      <td>very glad that it was over at last: ‘and I do ...</td>\n",
       "    </tr>\n",
       "    <tr>\n",
       "      <th>9</th>\n",
       "      <td>62764</td>\n",
       "      <td>come to the end: then stop.’\\n</td>\n",
       "    </tr>\n",
       "  </tbody>\n",
       "</table>\n",
       "</div>"
      ],
      "text/plain": [
       "   person_id                                         transcript\n",
       "0      28508                ‘I deny it!’ said the March Hare.\\n\n",
       "1      63713                                                 \\n\n",
       "2      86208      way, and the whole party swam to the shore.\\n\n",
       "3      35267  lessons in here? Why, there’s hardly room for ...\n",
       "4      33856                                                 \\n\n",
       "5      82799                                                 \\n\n",
       "6      66493                         would be offended again.\\n\n",
       "7      46263  ‘So he did, so he did,’ said the Gryphon, sigh...\n",
       "8      54263  very glad that it was over at last: ‘and I do ...\n",
       "9      62764                     come to the end: then stop.’\\n"
      ]
     },
     "execution_count": 283,
     "metadata": {},
     "output_type": "execute_result"
    }
   ],
   "source": [
    "interview.head(10)"
   ]
  },
  {
   "cell_type": "code",
   "execution_count": 285,
   "id": "0cf33608-acee-4982-9d43-98f1b1bb6b59",
   "metadata": {},
   "outputs": [
    {
     "data": {
      "text/html": [
       "<div>\n",
       "<style scoped>\n",
       "    .dataframe tbody tr th:only-of-type {\n",
       "        vertical-align: middle;\n",
       "    }\n",
       "\n",
       "    .dataframe tbody tr th {\n",
       "        vertical-align: top;\n",
       "    }\n",
       "\n",
       "    .dataframe thead th {\n",
       "        text-align: right;\n",
       "    }\n",
       "</style>\n",
       "<table border=\"1\" class=\"dataframe\">\n",
       "  <thead>\n",
       "    <tr style=\"text-align: right;\">\n",
       "      <th></th>\n",
       "      <th>person_id</th>\n",
       "      <th>transcript</th>\n",
       "    </tr>\n",
       "  </thead>\n",
       "  <tbody>\n",
       "    <tr>\n",
       "      <th>4988</th>\n",
       "      <td>14887</td>\n",
       "      <td>I heard a gunshot and then saw a man run out. ...</td>\n",
       "    </tr>\n",
       "    <tr>\n",
       "      <th>4989</th>\n",
       "      <td>16371</td>\n",
       "      <td>I saw the murder happen, and I recognized the ...</td>\n",
       "    </tr>\n",
       "  </tbody>\n",
       "</table>\n",
       "</div>"
      ],
      "text/plain": [
       "      person_id                                         transcript\n",
       "4988      14887  I heard a gunshot and then saw a man run out. ...\n",
       "4989      16371  I saw the murder happen, and I recognized the ..."
      ]
     },
     "execution_count": 285,
     "metadata": {},
     "output_type": "execute_result"
    }
   ],
   "source": [
    "interview[interview[\"person_id\"].isin([id_2, id_1])]"
   ]
  },
  {
   "cell_type": "code",
   "execution_count": 287,
   "id": "4e7909cd-671d-435d-b3d6-40ee47799127",
   "metadata": {},
   "outputs": [
    {
     "data": {
      "text/plain": [
       "'I heard a gunshot and then saw a man run out. He had a \"Get Fit Now Gym\" bag. The membership number on the bag started with \"48Z\". Only gold members have those bags. The man got into a car with a plate that included \"H42W\".'"
      ]
     },
     "execution_count": 287,
     "metadata": {},
     "output_type": "execute_result"
    }
   ],
   "source": [
    "interview[interview[\"person_id\"].isin([id_2, id_1])].reset_index(drop=True)[\"transcript\"][0]"
   ]
  },
  {
   "cell_type": "code",
   "execution_count": 291,
   "id": "5c2c9ac3-109f-4d82-924c-873e05d6fb39",
   "metadata": {
    "scrolled": true
   },
   "outputs": [
    {
     "data": {
      "text/plain": [
       "'I saw the murder happen, and I recognized the killer from my gym when I was working out last week on January the 9th.'"
      ]
     },
     "execution_count": 291,
     "metadata": {},
     "output_type": "execute_result"
    }
   ],
   "source": [
    "interview[interview[\"person_id\"].isin([id_2, id_1])].reset_index(drop=True)[\"transcript\"][1]"
   ]
  },
  {
   "cell_type": "markdown",
   "id": "a98355b7-5194-4969-9842-cc68df712da0",
   "metadata": {},
   "source": [
    "Теперь зная дату check_in и membership_id 48Z пойдем в зал"
   ]
  },
  {
   "cell_type": "code",
   "execution_count": 298,
   "id": "13c5fc15-70a4-4dd9-8010-cd64537b19d9",
   "metadata": {},
   "outputs": [
    {
     "data": {
      "text/html": [
       "<div>\n",
       "<style scoped>\n",
       "    .dataframe tbody tr th:only-of-type {\n",
       "        vertical-align: middle;\n",
       "    }\n",
       "\n",
       "    .dataframe tbody tr th {\n",
       "        vertical-align: top;\n",
       "    }\n",
       "\n",
       "    .dataframe thead th {\n",
       "        text-align: right;\n",
       "    }\n",
       "</style>\n",
       "<table border=\"1\" class=\"dataframe\">\n",
       "  <thead>\n",
       "    <tr style=\"text-align: right;\">\n",
       "      <th></th>\n",
       "      <th>membership_id</th>\n",
       "      <th>check_in_date</th>\n",
       "      <th>check_in_time</th>\n",
       "      <th>check_out_time</th>\n",
       "    </tr>\n",
       "  </thead>\n",
       "  <tbody>\n",
       "    <tr>\n",
       "      <th>2700</th>\n",
       "      <td>48Z7A</td>\n",
       "      <td>20180109</td>\n",
       "      <td>1600</td>\n",
       "      <td>1730</td>\n",
       "    </tr>\n",
       "    <tr>\n",
       "      <th>2701</th>\n",
       "      <td>48Z55</td>\n",
       "      <td>20180109</td>\n",
       "      <td>1530</td>\n",
       "      <td>1700</td>\n",
       "    </tr>\n",
       "  </tbody>\n",
       "</table>\n",
       "</div>"
      ],
      "text/plain": [
       "     membership_id  check_in_date  check_in_time  check_out_time\n",
       "2700         48Z7A       20180109           1600            1730\n",
       "2701         48Z55       20180109           1530            1700"
      ]
     },
     "execution_count": 298,
     "metadata": {},
     "output_type": "execute_result"
    }
   ],
   "source": [
    "get_fit_in[(get_fit_in[\"membership_id\"].str.contains(\"48Z\")) & (get_fit_in[\"check_in_date\"] == 20180109)]"
   ]
  },
  {
   "cell_type": "code",
   "execution_count": 302,
   "id": "9a343fe1-d7f7-4a5a-b893-552382f62e70",
   "metadata": {},
   "outputs": [],
   "source": [
    "gym = get_fit_in[(get_fit_in[\"membership_id\"].str.contains(\"48Z\")) & (get_fit_in[\"check_in_date\"] == 20180109)]"
   ]
  },
  {
   "cell_type": "code",
   "execution_count": 300,
   "id": "fe82d218-ff4e-4e55-9946-b46667efe28b",
   "metadata": {},
   "outputs": [
    {
     "data": {
      "text/html": [
       "<div>\n",
       "<style scoped>\n",
       "    .dataframe tbody tr th:only-of-type {\n",
       "        vertical-align: middle;\n",
       "    }\n",
       "\n",
       "    .dataframe tbody tr th {\n",
       "        vertical-align: top;\n",
       "    }\n",
       "\n",
       "    .dataframe thead th {\n",
       "        text-align: right;\n",
       "    }\n",
       "</style>\n",
       "<table border=\"1\" class=\"dataframe\">\n",
       "  <thead>\n",
       "    <tr style=\"text-align: right;\">\n",
       "      <th></th>\n",
       "      <th>id</th>\n",
       "      <th>person_id</th>\n",
       "      <th>name</th>\n",
       "      <th>membership_start_date</th>\n",
       "      <th>membership_status</th>\n",
       "    </tr>\n",
       "  </thead>\n",
       "  <tbody>\n",
       "    <tr>\n",
       "      <th>0</th>\n",
       "      <td>NL318</td>\n",
       "      <td>65076</td>\n",
       "      <td>Everette Koepke</td>\n",
       "      <td>20170926</td>\n",
       "      <td>gold</td>\n",
       "    </tr>\n",
       "    <tr>\n",
       "      <th>1</th>\n",
       "      <td>AOE21</td>\n",
       "      <td>39426</td>\n",
       "      <td>Noe Locascio</td>\n",
       "      <td>20171005</td>\n",
       "      <td>regular</td>\n",
       "    </tr>\n",
       "    <tr>\n",
       "      <th>2</th>\n",
       "      <td>2PN28</td>\n",
       "      <td>63823</td>\n",
       "      <td>Jeromy Heitschmidt</td>\n",
       "      <td>20180215</td>\n",
       "      <td>silver</td>\n",
       "    </tr>\n",
       "    <tr>\n",
       "      <th>3</th>\n",
       "      <td>0YJ24</td>\n",
       "      <td>80651</td>\n",
       "      <td>Waneta Wellard</td>\n",
       "      <td>20171206</td>\n",
       "      <td>gold</td>\n",
       "    </tr>\n",
       "    <tr>\n",
       "      <th>4</th>\n",
       "      <td>3A08L</td>\n",
       "      <td>32858</td>\n",
       "      <td>Mei Bianchin</td>\n",
       "      <td>20170401</td>\n",
       "      <td>silver</td>\n",
       "    </tr>\n",
       "    <tr>\n",
       "      <th>5</th>\n",
       "      <td>6W6I2</td>\n",
       "      <td>69510</td>\n",
       "      <td>Paris Accurso</td>\n",
       "      <td>20170613</td>\n",
       "      <td>regular</td>\n",
       "    </tr>\n",
       "    <tr>\n",
       "      <th>6</th>\n",
       "      <td>5Y28Y</td>\n",
       "      <td>15218</td>\n",
       "      <td>Millicent Yessios</td>\n",
       "      <td>20180205</td>\n",
       "      <td>gold</td>\n",
       "    </tr>\n",
       "    <tr>\n",
       "      <th>7</th>\n",
       "      <td>156A7</td>\n",
       "      <td>79701</td>\n",
       "      <td>Marcelino Leard</td>\n",
       "      <td>20180428</td>\n",
       "      <td>silver</td>\n",
       "    </tr>\n",
       "    <tr>\n",
       "      <th>8</th>\n",
       "      <td>A5N3S</td>\n",
       "      <td>24541</td>\n",
       "      <td>Mary Cameron</td>\n",
       "      <td>20170501</td>\n",
       "      <td>gold</td>\n",
       "    </tr>\n",
       "    <tr>\n",
       "      <th>9</th>\n",
       "      <td>X0643</td>\n",
       "      <td>15247</td>\n",
       "      <td>Shondra Ledlow</td>\n",
       "      <td>20170521</td>\n",
       "      <td>silver</td>\n",
       "    </tr>\n",
       "  </tbody>\n",
       "</table>\n",
       "</div>"
      ],
      "text/plain": [
       "      id  person_id                name  membership_start_date  \\\n",
       "0  NL318      65076     Everette Koepke               20170926   \n",
       "1  AOE21      39426        Noe Locascio               20171005   \n",
       "2  2PN28      63823  Jeromy Heitschmidt               20180215   \n",
       "3  0YJ24      80651      Waneta Wellard               20171206   \n",
       "4  3A08L      32858        Mei Bianchin               20170401   \n",
       "5  6W6I2      69510       Paris Accurso               20170613   \n",
       "6  5Y28Y      15218   Millicent Yessios               20180205   \n",
       "7  156A7      79701     Marcelino Leard               20180428   \n",
       "8  A5N3S      24541        Mary Cameron               20170501   \n",
       "9  X0643      15247      Shondra Ledlow               20170521   \n",
       "\n",
       "  membership_status  \n",
       "0              gold  \n",
       "1           regular  \n",
       "2            silver  \n",
       "3              gold  \n",
       "4            silver  \n",
       "5           regular  \n",
       "6              gold  \n",
       "7            silver  \n",
       "8              gold  \n",
       "9            silver  "
      ]
     },
     "execution_count": 300,
     "metadata": {},
     "output_type": "execute_result"
    }
   ],
   "source": [
    "get_fit_mem.head(10)"
   ]
  },
  {
   "cell_type": "markdown",
   "id": "327d5a59-8384-4748-a564-697471748c53",
   "metadata": {},
   "source": [
    "Вообще было бы неплохо понять, кто это такие по номерам членства "
   ]
  },
  {
   "cell_type": "code",
   "execution_count": 308,
   "id": "5c52f71b-b099-450d-8238-e6da6da3d9e0",
   "metadata": {},
   "outputs": [
    {
     "data": {
      "text/html": [
       "<div>\n",
       "<style scoped>\n",
       "    .dataframe tbody tr th:only-of-type {\n",
       "        vertical-align: middle;\n",
       "    }\n",
       "\n",
       "    .dataframe tbody tr th {\n",
       "        vertical-align: top;\n",
       "    }\n",
       "\n",
       "    .dataframe thead th {\n",
       "        text-align: right;\n",
       "    }\n",
       "</style>\n",
       "<table border=\"1\" class=\"dataframe\">\n",
       "  <thead>\n",
       "    <tr style=\"text-align: right;\">\n",
       "      <th></th>\n",
       "      <th>id</th>\n",
       "      <th>person_id</th>\n",
       "      <th>name</th>\n",
       "      <th>membership_start_date</th>\n",
       "      <th>membership_status</th>\n",
       "      <th>membership_id</th>\n",
       "      <th>check_in_date</th>\n",
       "      <th>check_in_time</th>\n",
       "      <th>check_out_time</th>\n",
       "    </tr>\n",
       "  </thead>\n",
       "  <tbody>\n",
       "    <tr>\n",
       "      <th>0</th>\n",
       "      <td>48Z7A</td>\n",
       "      <td>28819</td>\n",
       "      <td>Joe Germuska</td>\n",
       "      <td>20160305</td>\n",
       "      <td>gold</td>\n",
       "      <td>48Z7A</td>\n",
       "      <td>20180109</td>\n",
       "      <td>1600</td>\n",
       "      <td>1730</td>\n",
       "    </tr>\n",
       "    <tr>\n",
       "      <th>1</th>\n",
       "      <td>48Z55</td>\n",
       "      <td>67318</td>\n",
       "      <td>Jeremy Bowers</td>\n",
       "      <td>20160101</td>\n",
       "      <td>gold</td>\n",
       "      <td>48Z55</td>\n",
       "      <td>20180109</td>\n",
       "      <td>1530</td>\n",
       "      <td>1700</td>\n",
       "    </tr>\n",
       "  </tbody>\n",
       "</table>\n",
       "</div>"
      ],
      "text/plain": [
       "      id  person_id           name  membership_start_date membership_status  \\\n",
       "0  48Z7A      28819   Joe Germuska               20160305              gold   \n",
       "1  48Z55      67318  Jeremy Bowers               20160101              gold   \n",
       "\n",
       "  membership_id  check_in_date  check_in_time  check_out_time  \n",
       "0         48Z7A       20180109           1600            1730  \n",
       "1         48Z55       20180109           1530            1700  "
      ]
     },
     "execution_count": 308,
     "metadata": {},
     "output_type": "execute_result"
    }
   ],
   "source": [
    "get_fit_mem.merge(gym, left_on=\"id\", right_on=\"membership_id\")"
   ]
  },
  {
   "cell_type": "markdown",
   "id": "e5148959-f57e-4c6f-bc28-15b6a8ab8c06",
   "metadata": {},
   "source": [
    "Итак, 2 подозреваемых 2018-01-09 были в зале, с id 48Z и стаутос GOLD MEMBER, знаем, что один из них обязательно должен быть мужчиной и его номер машины включает H42W "
   ]
  },
  {
   "cell_type": "code",
   "execution_count": 311,
   "id": "563f263c-f8a5-446b-b40d-b10bb9adeea3",
   "metadata": {},
   "outputs": [
    {
     "data": {
      "text/html": [
       "<div>\n",
       "<style scoped>\n",
       "    .dataframe tbody tr th:only-of-type {\n",
       "        vertical-align: middle;\n",
       "    }\n",
       "\n",
       "    .dataframe tbody tr th {\n",
       "        vertical-align: top;\n",
       "    }\n",
       "\n",
       "    .dataframe thead th {\n",
       "        text-align: right;\n",
       "    }\n",
       "</style>\n",
       "<table border=\"1\" class=\"dataframe\">\n",
       "  <thead>\n",
       "    <tr style=\"text-align: right;\">\n",
       "      <th></th>\n",
       "      <th>id</th>\n",
       "      <th>age</th>\n",
       "      <th>height</th>\n",
       "      <th>eye_color</th>\n",
       "      <th>hair_color</th>\n",
       "      <th>gender</th>\n",
       "      <th>plate_number</th>\n",
       "      <th>car_make</th>\n",
       "      <th>car_model</th>\n",
       "    </tr>\n",
       "  </thead>\n",
       "  <tbody>\n",
       "    <tr>\n",
       "      <th>0</th>\n",
       "      <td>100280</td>\n",
       "      <td>72</td>\n",
       "      <td>57</td>\n",
       "      <td>brown</td>\n",
       "      <td>red</td>\n",
       "      <td>male</td>\n",
       "      <td>P24L4U</td>\n",
       "      <td>Acura</td>\n",
       "      <td>MDX</td>\n",
       "    </tr>\n",
       "    <tr>\n",
       "      <th>1</th>\n",
       "      <td>100460</td>\n",
       "      <td>63</td>\n",
       "      <td>72</td>\n",
       "      <td>brown</td>\n",
       "      <td>brown</td>\n",
       "      <td>female</td>\n",
       "      <td>XF02T6</td>\n",
       "      <td>Cadillac</td>\n",
       "      <td>SRX</td>\n",
       "    </tr>\n",
       "    <tr>\n",
       "      <th>2</th>\n",
       "      <td>101029</td>\n",
       "      <td>62</td>\n",
       "      <td>74</td>\n",
       "      <td>green</td>\n",
       "      <td>green</td>\n",
       "      <td>female</td>\n",
       "      <td>VKY5KR</td>\n",
       "      <td>Scion</td>\n",
       "      <td>xB</td>\n",
       "    </tr>\n",
       "    <tr>\n",
       "      <th>3</th>\n",
       "      <td>101198</td>\n",
       "      <td>43</td>\n",
       "      <td>54</td>\n",
       "      <td>amber</td>\n",
       "      <td>brown</td>\n",
       "      <td>female</td>\n",
       "      <td>Y5NZ08</td>\n",
       "      <td>Nissan</td>\n",
       "      <td>Rogue</td>\n",
       "    </tr>\n",
       "    <tr>\n",
       "      <th>4</th>\n",
       "      <td>101255</td>\n",
       "      <td>18</td>\n",
       "      <td>79</td>\n",
       "      <td>blue</td>\n",
       "      <td>grey</td>\n",
       "      <td>female</td>\n",
       "      <td>5162Z1</td>\n",
       "      <td>Lexus</td>\n",
       "      <td>GS</td>\n",
       "    </tr>\n",
       "    <tr>\n",
       "      <th>5</th>\n",
       "      <td>101494</td>\n",
       "      <td>48</td>\n",
       "      <td>55</td>\n",
       "      <td>blue</td>\n",
       "      <td>red</td>\n",
       "      <td>female</td>\n",
       "      <td>81X1N7</td>\n",
       "      <td>Kia</td>\n",
       "      <td>Sportage</td>\n",
       "    </tr>\n",
       "    <tr>\n",
       "      <th>6</th>\n",
       "      <td>101568</td>\n",
       "      <td>53</td>\n",
       "      <td>78</td>\n",
       "      <td>brown</td>\n",
       "      <td>blue</td>\n",
       "      <td>male</td>\n",
       "      <td>SJ57LL</td>\n",
       "      <td>Saab</td>\n",
       "      <td>9-5</td>\n",
       "    </tr>\n",
       "    <tr>\n",
       "      <th>7</th>\n",
       "      <td>101586</td>\n",
       "      <td>57</td>\n",
       "      <td>70</td>\n",
       "      <td>amber</td>\n",
       "      <td>brown</td>\n",
       "      <td>male</td>\n",
       "      <td>31U1KE</td>\n",
       "      <td>Jaguar</td>\n",
       "      <td>XK</td>\n",
       "    </tr>\n",
       "    <tr>\n",
       "      <th>8</th>\n",
       "      <td>101611</td>\n",
       "      <td>40</td>\n",
       "      <td>65</td>\n",
       "      <td>blue</td>\n",
       "      <td>white</td>\n",
       "      <td>female</td>\n",
       "      <td>5O8VW7</td>\n",
       "      <td>GMC</td>\n",
       "      <td>Sierra Denali</td>\n",
       "    </tr>\n",
       "    <tr>\n",
       "      <th>9</th>\n",
       "      <td>101613</td>\n",
       "      <td>81</td>\n",
       "      <td>58</td>\n",
       "      <td>brown</td>\n",
       "      <td>grey</td>\n",
       "      <td>female</td>\n",
       "      <td>5PCQB5</td>\n",
       "      <td>GMC</td>\n",
       "      <td>Sierra 2500</td>\n",
       "    </tr>\n",
       "  </tbody>\n",
       "</table>\n",
       "</div>"
      ],
      "text/plain": [
       "       id  age  height eye_color hair_color  gender plate_number  car_make  \\\n",
       "0  100280   72      57     brown        red    male       P24L4U     Acura   \n",
       "1  100460   63      72     brown      brown  female       XF02T6  Cadillac   \n",
       "2  101029   62      74     green      green  female       VKY5KR     Scion   \n",
       "3  101198   43      54     amber      brown  female       Y5NZ08    Nissan   \n",
       "4  101255   18      79      blue       grey  female       5162Z1     Lexus   \n",
       "5  101494   48      55      blue        red  female       81X1N7       Kia   \n",
       "6  101568   53      78     brown       blue    male       SJ57LL      Saab   \n",
       "7  101586   57      70     amber      brown    male       31U1KE    Jaguar   \n",
       "8  101611   40      65      blue      white  female       5O8VW7       GMC   \n",
       "9  101613   81      58     brown       grey  female       5PCQB5       GMC   \n",
       "\n",
       "       car_model  \n",
       "0            MDX  \n",
       "1            SRX  \n",
       "2             xB  \n",
       "3          Rogue  \n",
       "4             GS  \n",
       "5       Sportage  \n",
       "6            9-5  \n",
       "7             XK  \n",
       "8  Sierra Denali  \n",
       "9    Sierra 2500  "
      ]
     },
     "execution_count": 311,
     "metadata": {},
     "output_type": "execute_result"
    }
   ],
   "source": [
    "driver_.head(10)"
   ]
  },
  {
   "cell_type": "markdown",
   "id": "2d7cfcfc-7136-4b44-8656-7d286d09945f",
   "metadata": {},
   "source": [
    "Проверяем по базе водителей"
   ]
  },
  {
   "cell_type": "code",
   "execution_count": 321,
   "id": "cdd955b0-cdc7-467e-9300-6a7265a5d775",
   "metadata": {},
   "outputs": [
    {
     "data": {
      "text/html": [
       "<div>\n",
       "<style scoped>\n",
       "    .dataframe tbody tr th:only-of-type {\n",
       "        vertical-align: middle;\n",
       "    }\n",
       "\n",
       "    .dataframe tbody tr th {\n",
       "        vertical-align: top;\n",
       "    }\n",
       "\n",
       "    .dataframe thead th {\n",
       "        text-align: right;\n",
       "    }\n",
       "</style>\n",
       "<table border=\"1\" class=\"dataframe\">\n",
       "  <thead>\n",
       "    <tr style=\"text-align: right;\">\n",
       "      <th></th>\n",
       "      <th>id</th>\n",
       "      <th>age</th>\n",
       "      <th>height</th>\n",
       "      <th>eye_color</th>\n",
       "      <th>hair_color</th>\n",
       "      <th>gender</th>\n",
       "      <th>plate_number</th>\n",
       "      <th>car_make</th>\n",
       "      <th>car_model</th>\n",
       "    </tr>\n",
       "  </thead>\n",
       "  <tbody>\n",
       "    <tr>\n",
       "      <th>3529</th>\n",
       "      <td>423327</td>\n",
       "      <td>30</td>\n",
       "      <td>70</td>\n",
       "      <td>brown</td>\n",
       "      <td>brown</td>\n",
       "      <td>male</td>\n",
       "      <td>0H42W2</td>\n",
       "      <td>Chevrolet</td>\n",
       "      <td>Spark LS</td>\n",
       "    </tr>\n",
       "    <tr>\n",
       "      <th>6240</th>\n",
       "      <td>664760</td>\n",
       "      <td>21</td>\n",
       "      <td>71</td>\n",
       "      <td>black</td>\n",
       "      <td>black</td>\n",
       "      <td>male</td>\n",
       "      <td>4H42WR</td>\n",
       "      <td>Nissan</td>\n",
       "      <td>Altima</td>\n",
       "    </tr>\n",
       "  </tbody>\n",
       "</table>\n",
       "</div>"
      ],
      "text/plain": [
       "          id  age  height eye_color hair_color gender plate_number   car_make  \\\n",
       "3529  423327   30      70     brown      brown   male       0H42W2  Chevrolet   \n",
       "6240  664760   21      71     black      black   male       4H42WR     Nissan   \n",
       "\n",
       "     car_model  \n",
       "3529  Spark LS  \n",
       "6240    Altima  "
      ]
     },
     "execution_count": 321,
     "metadata": {},
     "output_type": "execute_result"
    }
   ],
   "source": [
    "driver_[(driver_[\"plate_number\"].str.contains(\"H42W\")) & (driver_[\"gender\"] == \"male\")]"
   ]
  },
  {
   "cell_type": "markdown",
   "id": "3b1de9df-097d-4542-97ac-d804c821879d",
   "metadata": {},
   "source": [
    "Провериам по номеру лицензии"
   ]
  },
  {
   "cell_type": "code",
   "execution_count": 324,
   "id": "1717b86e-9887-49cd-bd20-3f505e3f3a57",
   "metadata": {},
   "outputs": [
    {
     "data": {
      "text/html": [
       "<div>\n",
       "<style scoped>\n",
       "    .dataframe tbody tr th:only-of-type {\n",
       "        vertical-align: middle;\n",
       "    }\n",
       "\n",
       "    .dataframe tbody tr th {\n",
       "        vertical-align: top;\n",
       "    }\n",
       "\n",
       "    .dataframe thead th {\n",
       "        text-align: right;\n",
       "    }\n",
       "</style>\n",
       "<table border=\"1\" class=\"dataframe\">\n",
       "  <thead>\n",
       "    <tr style=\"text-align: right;\">\n",
       "      <th></th>\n",
       "      <th>id</th>\n",
       "      <th>name</th>\n",
       "      <th>license_id</th>\n",
       "      <th>address_number</th>\n",
       "      <th>address_street_name</th>\n",
       "      <th>ssn</th>\n",
       "    </tr>\n",
       "  </thead>\n",
       "  <tbody>\n",
       "    <tr>\n",
       "      <th>0</th>\n",
       "      <td>10000</td>\n",
       "      <td>Christoper Peteuil</td>\n",
       "      <td>993845</td>\n",
       "      <td>624</td>\n",
       "      <td>Bankhall Ave</td>\n",
       "      <td>747714076</td>\n",
       "    </tr>\n",
       "    <tr>\n",
       "      <th>1</th>\n",
       "      <td>10007</td>\n",
       "      <td>Kourtney Calderwood</td>\n",
       "      <td>861794</td>\n",
       "      <td>2791</td>\n",
       "      <td>Gustavus Blvd</td>\n",
       "      <td>477972044</td>\n",
       "    </tr>\n",
       "    <tr>\n",
       "      <th>2</th>\n",
       "      <td>10010</td>\n",
       "      <td>Muoi Cary</td>\n",
       "      <td>385336</td>\n",
       "      <td>741</td>\n",
       "      <td>Northwestern Dr</td>\n",
       "      <td>828638512</td>\n",
       "    </tr>\n",
       "    <tr>\n",
       "      <th>3</th>\n",
       "      <td>10016</td>\n",
       "      <td>Era Moselle</td>\n",
       "      <td>431897</td>\n",
       "      <td>1987</td>\n",
       "      <td>Wood Glade St</td>\n",
       "      <td>614621061</td>\n",
       "    </tr>\n",
       "    <tr>\n",
       "      <th>4</th>\n",
       "      <td>10025</td>\n",
       "      <td>Trena Hornby</td>\n",
       "      <td>550890</td>\n",
       "      <td>276</td>\n",
       "      <td>Daws Hill Way</td>\n",
       "      <td>223877684</td>\n",
       "    </tr>\n",
       "    <tr>\n",
       "      <th>5</th>\n",
       "      <td>10027</td>\n",
       "      <td>Antione Godbolt</td>\n",
       "      <td>439509</td>\n",
       "      <td>2431</td>\n",
       "      <td>Zelham Dr</td>\n",
       "      <td>491650087</td>\n",
       "    </tr>\n",
       "    <tr>\n",
       "      <th>6</th>\n",
       "      <td>10034</td>\n",
       "      <td>Kyra Buen</td>\n",
       "      <td>920494</td>\n",
       "      <td>1873</td>\n",
       "      <td>Sleigh Dr</td>\n",
       "      <td>332497972</td>\n",
       "    </tr>\n",
       "    <tr>\n",
       "      <th>7</th>\n",
       "      <td>10039</td>\n",
       "      <td>Francesco Agundez</td>\n",
       "      <td>278151</td>\n",
       "      <td>736</td>\n",
       "      <td>Buswell Dr</td>\n",
       "      <td>861079251</td>\n",
       "    </tr>\n",
       "    <tr>\n",
       "      <th>8</th>\n",
       "      <td>10095</td>\n",
       "      <td>Leslie Thate</td>\n",
       "      <td>729987</td>\n",
       "      <td>2772</td>\n",
       "      <td>Camellia Park Circle</td>\n",
       "      <td>127944356</td>\n",
       "    </tr>\n",
       "    <tr>\n",
       "      <th>9</th>\n",
       "      <td>10122</td>\n",
       "      <td>Alva Conkel</td>\n",
       "      <td>779002</td>\n",
       "      <td>116</td>\n",
       "      <td>Diversey Circle</td>\n",
       "      <td>148521773</td>\n",
       "    </tr>\n",
       "  </tbody>\n",
       "</table>\n",
       "</div>"
      ],
      "text/plain": [
       "      id                 name  license_id  address_number  \\\n",
       "0  10000   Christoper Peteuil      993845             624   \n",
       "1  10007  Kourtney Calderwood      861794            2791   \n",
       "2  10010            Muoi Cary      385336             741   \n",
       "3  10016          Era Moselle      431897            1987   \n",
       "4  10025         Trena Hornby      550890             276   \n",
       "5  10027      Antione Godbolt      439509            2431   \n",
       "6  10034            Kyra Buen      920494            1873   \n",
       "7  10039    Francesco Agundez      278151             736   \n",
       "8  10095         Leslie Thate      729987            2772   \n",
       "9  10122          Alva Conkel      779002             116   \n",
       "\n",
       "    address_street_name        ssn  \n",
       "0          Bankhall Ave  747714076  \n",
       "1         Gustavus Blvd  477972044  \n",
       "2       Northwestern Dr  828638512  \n",
       "3         Wood Glade St  614621061  \n",
       "4         Daws Hill Way  223877684  \n",
       "5             Zelham Dr  491650087  \n",
       "6             Sleigh Dr  332497972  \n",
       "7            Buswell Dr  861079251  \n",
       "8  Camellia Park Circle  127944356  \n",
       "9       Diversey Circle  148521773  "
      ]
     },
     "execution_count": 324,
     "metadata": {},
     "output_type": "execute_result"
    }
   ],
   "source": [
    "person.head(10)"
   ]
  },
  {
   "cell_type": "code",
   "execution_count": 326,
   "id": "42eb3efd-8823-4924-bb99-6e4c861dc5a0",
   "metadata": {},
   "outputs": [],
   "source": [
    "driver = driver_[(driver_[\"plate_number\"].str.contains(\"H42W\")) & (driver_[\"gender\"] == \"male\")]"
   ]
  },
  {
   "cell_type": "code",
   "execution_count": 328,
   "id": "602695ca-ef4c-4374-a5ae-2e92c128c1f5",
   "metadata": {},
   "outputs": [
    {
     "data": {
      "text/html": [
       "<div>\n",
       "<style scoped>\n",
       "    .dataframe tbody tr th:only-of-type {\n",
       "        vertical-align: middle;\n",
       "    }\n",
       "\n",
       "    .dataframe tbody tr th {\n",
       "        vertical-align: top;\n",
       "    }\n",
       "\n",
       "    .dataframe thead th {\n",
       "        text-align: right;\n",
       "    }\n",
       "</style>\n",
       "<table border=\"1\" class=\"dataframe\">\n",
       "  <thead>\n",
       "    <tr style=\"text-align: right;\">\n",
       "      <th></th>\n",
       "      <th>id_x</th>\n",
       "      <th>name</th>\n",
       "      <th>license_id</th>\n",
       "      <th>address_number</th>\n",
       "      <th>address_street_name</th>\n",
       "      <th>ssn</th>\n",
       "      <th>id_y</th>\n",
       "      <th>age</th>\n",
       "      <th>height</th>\n",
       "      <th>eye_color</th>\n",
       "      <th>hair_color</th>\n",
       "      <th>gender</th>\n",
       "      <th>plate_number</th>\n",
       "      <th>car_make</th>\n",
       "      <th>car_model</th>\n",
       "    </tr>\n",
       "  </thead>\n",
       "  <tbody>\n",
       "    <tr>\n",
       "      <th>0</th>\n",
       "      <td>51739</td>\n",
       "      <td>Tushar Chandra</td>\n",
       "      <td>664760</td>\n",
       "      <td>312</td>\n",
       "      <td>Phi St</td>\n",
       "      <td>137882671</td>\n",
       "      <td>664760</td>\n",
       "      <td>21</td>\n",
       "      <td>71</td>\n",
       "      <td>black</td>\n",
       "      <td>black</td>\n",
       "      <td>male</td>\n",
       "      <td>4H42WR</td>\n",
       "      <td>Nissan</td>\n",
       "      <td>Altima</td>\n",
       "    </tr>\n",
       "    <tr>\n",
       "      <th>1</th>\n",
       "      <td>67318</td>\n",
       "      <td>Jeremy Bowers</td>\n",
       "      <td>423327</td>\n",
       "      <td>530</td>\n",
       "      <td>Washington Pl, Apt 3A</td>\n",
       "      <td>871539279</td>\n",
       "      <td>423327</td>\n",
       "      <td>30</td>\n",
       "      <td>70</td>\n",
       "      <td>brown</td>\n",
       "      <td>brown</td>\n",
       "      <td>male</td>\n",
       "      <td>0H42W2</td>\n",
       "      <td>Chevrolet</td>\n",
       "      <td>Spark LS</td>\n",
       "    </tr>\n",
       "  </tbody>\n",
       "</table>\n",
       "</div>"
      ],
      "text/plain": [
       "    id_x            name  license_id  address_number    address_street_name  \\\n",
       "0  51739  Tushar Chandra      664760             312                 Phi St   \n",
       "1  67318   Jeremy Bowers      423327             530  Washington Pl, Apt 3A   \n",
       "\n",
       "         ssn    id_y  age  height eye_color hair_color gender plate_number  \\\n",
       "0  137882671  664760   21      71     black      black   male       4H42WR   \n",
       "1  871539279  423327   30      70     brown      brown   male       0H42W2   \n",
       "\n",
       "    car_make car_model  \n",
       "0     Nissan    Altima  \n",
       "1  Chevrolet  Spark LS  "
      ]
     },
     "execution_count": 328,
     "metadata": {},
     "output_type": "execute_result"
    }
   ],
   "source": [
    "person.merge(driver, left_on=\"license_id\", right_on=\"id\")"
   ]
  },
  {
   "cell_type": "markdown",
   "id": "8340bfc7-1fa8-4154-8042-1839246aaebf",
   "metadata": {},
   "source": [
    "И наконец соберем воедино водителя и его похождения в зал"
   ]
  },
  {
   "cell_type": "code",
   "execution_count": 335,
   "id": "3224f572-1b1e-416b-8c1b-021f692a2726",
   "metadata": {},
   "outputs": [],
   "source": [
    "witness = get_fit_mem.merge(gym, left_on=\"id\", right_on=\"membership_id\")\n",
    "person_ = person.merge(driver, left_on=\"license_id\", right_on=\"id\")"
   ]
  },
  {
   "cell_type": "markdown",
   "id": "2625abb4-2505-43d6-86f8-be0d6eda0be9",
   "metadata": {},
   "source": [
    "Итак, наш подозреваемый убийца....."
   ]
  },
  {
   "cell_type": "code",
   "execution_count": 337,
   "id": "cb3648be-23fc-45f1-8d84-f25470d8152c",
   "metadata": {},
   "outputs": [],
   "source": [
    "murder = person_.merge(witness, left_on=\"name\", right_on=\"name\")"
   ]
  },
  {
   "cell_type": "code",
   "execution_count": 339,
   "id": "c62a3edd-3661-4161-b5de-bd7556b2e958",
   "metadata": {},
   "outputs": [
    {
     "data": {
      "text/plain": [
       "0    Jeremy Bowers\n",
       "Name: name, dtype: object"
      ]
     },
     "execution_count": 339,
     "metadata": {},
     "output_type": "execute_result"
    }
   ],
   "source": [
    "murder[\"name\"]"
   ]
  },
  {
   "cell_type": "markdown",
   "id": "ef5e72e9-e2b9-4a2c-ac5d-323e84470037",
   "metadata": {},
   "source": [
    "Мы нашли полозреваемого убийцу, ура! \n",
    "Еще бы проверить на правильность!"
   ]
  },
  {
   "cell_type": "markdown",
   "id": "bf81d012-e264-4789-a879-e15014b25cc1",
   "metadata": {},
   "source": [
    "Посмотрим на его показания"
   ]
  },
  {
   "cell_type": "code",
   "execution_count": 369,
   "id": "352ad64b-2b04-417c-bfd8-113bdcd207dc",
   "metadata": {},
   "outputs": [
    {
     "data": {
      "text/plain": [
       "'I was hired by a woman with a lot of money. I don\\'t know her name but I know she\\'s around 5\\'5\" (65\") or 5\\'7\" (67\"). She has red hair and she drives a Tesla Model S. I know that she attended the SQL Symphony Concert 3 times in December 2017.\\n'"
      ]
     },
     "execution_count": 369,
     "metadata": {},
     "output_type": "execute_result"
    }
   ],
   "source": [
    "interview[interview[\"person_id\"] == murder[\"id_x\"][0]][\"transcript\"].reset_index(drop=True)[0]"
   ]
  },
  {
   "cell_type": "markdown",
   "id": "83f4c17a-efde-45f8-8f6d-f4b97ddc420d",
   "metadata": {},
   "source": [
    "Итак, его наняли => подозреваемый и правда является убийцей, дополнительно можно было бы найти кто его нанял."
   ]
  },
  {
   "cell_type": "code",
   "execution_count": null,
   "id": "0aefed46-5cba-4026-a9c9-f1f4a7615d94",
   "metadata": {},
   "outputs": [],
   "source": []
  }
 ],
 "metadata": {
  "kernelspec": {
   "display_name": "Python 3 (ipykernel)",
   "language": "python",
   "name": "python3"
  },
  "language_info": {
   "codemirror_mode": {
    "name": "ipython",
    "version": 3
   },
   "file_extension": ".py",
   "mimetype": "text/x-python",
   "name": "python",
   "nbconvert_exporter": "python",
   "pygments_lexer": "ipython3",
   "version": "3.11.7"
  }
 },
 "nbformat": 4,
 "nbformat_minor": 5
}
