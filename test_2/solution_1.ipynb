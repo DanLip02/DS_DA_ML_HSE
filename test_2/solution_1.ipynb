{
 "cells": [
  {
   "cell_type": "code",
   "execution_count": 1,
   "id": "bc032163-5af3-4c55-a315-0edfe6222d22",
   "metadata": {},
   "outputs": [],
   "source": [
    "import numpy as np\n",
    "import pandas as pd\n",
    "from sklearn.tree import DecisionTreeRegressor\n",
    "from sklearn.model_selection import train_test_split\n",
    "from sklearn.metrics import mean_squared_error, mean_absolute_error\n",
    "from sklearn.preprocessing import StandardScaler"
   ]
  },
  {
   "cell_type": "markdown",
   "id": "05eca49a-f980-4f4e-89e5-5ff9ac545c33",
   "metadata": {},
   "source": [
    "# Допиливаем класс"
   ]
  },
  {
   "cell_type": "code",
   "execution_count": 3,
   "id": "98a81e09-bd88-4142-bfa2-bd4186a96f59",
   "metadata": {},
   "outputs": [],
   "source": [
    "class MyGradientRegressor:\n",
    "    def __init__(self, n_estimators=300, max_depth=3, lr=0.1, patience=10, validation_split=0.2, metric=None):\n",
    "        self.n_estimators = n_estimators\n",
    "        self.max_depth = max_depth\n",
    "        self.lr = lr\n",
    "        self.patience = patience\n",
    "        self.validation_split = validation_split\n",
    "        self.metric = metric if metric else mean_squared_error\n",
    "        self.estimators = []\n",
    "        self.best_estimators = []\n",
    "        self.best_iteration = 0\n",
    "\n",
    "    def fit(self, X, y):\n",
    "        X_train, X_val, y_train, y_val = train_test_split(X, y, test_size=self.validation_split, random_state=42)\n",
    "\n",
    "        self.estimators = []\n",
    "        predictions = np.zeros_like(y_train)\n",
    "        best_score = float('inf')\n",
    "        patience_counter = 0\n",
    "\n",
    "        for i in range(self.n_estimators):\n",
    "            new_model = DecisionTreeRegressor(max_depth=self.max_depth)\n",
    "            new_target = -2 * (predictions - y_train)\n",
    "            new_model.fit(X_train, new_target)\n",
    "            predictions += self.lr * new_model.predict(X_train)\n",
    "\n",
    "            val_predictions = self.predict(X_val, training=True)\n",
    "            score = self.metric(y_val, val_predictions)\n",
    "\n",
    "            if score < best_score:\n",
    "                best_score = score\n",
    "                self.best_estimators = self.estimators.copy()\n",
    "                self.best_iteration = i\n",
    "                patience_counter = 0\n",
    "            else:\n",
    "                patience_counter += 1\n",
    "\n",
    "            if patience_counter >= self.patience:\n",
    "                break\n",
    "\n",
    "            self.estimators.append(new_model)\n",
    "\n",
    "    def predict(self, X, training=False):\n",
    "        curr_pred = np.zeros(len(X))\n",
    "        estimators = self.estimators if training else self.best_estimators\n",
    "        for est in estimators:\n",
    "            curr_pred += self.lr * est.predict(X)\n",
    "        return curr_pred\n"
   ]
  },
  {
   "cell_type": "markdown",
   "id": "caf44834-049e-491f-9fa2-6a2100192901",
   "metadata": {},
   "source": [
    "# Загружаем датасет"
   ]
  },
  {
   "cell_type": "code",
   "execution_count": 5,
   "id": "aa3fc3e3-0880-4a45-a061-1a3e3c614d39",
   "metadata": {},
   "outputs": [],
   "source": [
    "file_path = \"house_price_regression_dataset [zQQfCL].csv\"\n",
    "df = pd.read_csv(file_path)\n"
   ]
  },
  {
   "cell_type": "code",
   "execution_count": 6,
   "id": "239a61cb-8060-4592-9084-040b9b472b19",
   "metadata": {},
   "outputs": [
    {
     "data": {
      "text/html": [
       "<div>\n",
       "<style scoped>\n",
       "    .dataframe tbody tr th:only-of-type {\n",
       "        vertical-align: middle;\n",
       "    }\n",
       "\n",
       "    .dataframe tbody tr th {\n",
       "        vertical-align: top;\n",
       "    }\n",
       "\n",
       "    .dataframe thead th {\n",
       "        text-align: right;\n",
       "    }\n",
       "</style>\n",
       "<table border=\"1\" class=\"dataframe\">\n",
       "  <thead>\n",
       "    <tr style=\"text-align: right;\">\n",
       "      <th></th>\n",
       "      <th>Square_Footage</th>\n",
       "      <th>Num_Bedrooms</th>\n",
       "      <th>Num_Bathrooms</th>\n",
       "      <th>Year_Built</th>\n",
       "      <th>Lot_Size</th>\n",
       "      <th>Garage_Size</th>\n",
       "      <th>Neighborhood_Quality</th>\n",
       "      <th>House_Price</th>\n",
       "    </tr>\n",
       "  </thead>\n",
       "  <tbody>\n",
       "    <tr>\n",
       "      <th>0</th>\n",
       "      <td>1360</td>\n",
       "      <td>2</td>\n",
       "      <td>1</td>\n",
       "      <td>1981</td>\n",
       "      <td>0.599637</td>\n",
       "      <td>0</td>\n",
       "      <td>5</td>\n",
       "      <td>2.623829e+05</td>\n",
       "    </tr>\n",
       "    <tr>\n",
       "      <th>1</th>\n",
       "      <td>4272</td>\n",
       "      <td>3</td>\n",
       "      <td>3</td>\n",
       "      <td>2016</td>\n",
       "      <td>4.753014</td>\n",
       "      <td>1</td>\n",
       "      <td>6</td>\n",
       "      <td>9.852609e+05</td>\n",
       "    </tr>\n",
       "    <tr>\n",
       "      <th>2</th>\n",
       "      <td>3592</td>\n",
       "      <td>1</td>\n",
       "      <td>2</td>\n",
       "      <td>2016</td>\n",
       "      <td>3.634823</td>\n",
       "      <td>0</td>\n",
       "      <td>9</td>\n",
       "      <td>7.779774e+05</td>\n",
       "    </tr>\n",
       "    <tr>\n",
       "      <th>3</th>\n",
       "      <td>966</td>\n",
       "      <td>1</td>\n",
       "      <td>2</td>\n",
       "      <td>1977</td>\n",
       "      <td>2.730667</td>\n",
       "      <td>1</td>\n",
       "      <td>8</td>\n",
       "      <td>2.296989e+05</td>\n",
       "    </tr>\n",
       "    <tr>\n",
       "      <th>4</th>\n",
       "      <td>4926</td>\n",
       "      <td>2</td>\n",
       "      <td>1</td>\n",
       "      <td>1993</td>\n",
       "      <td>4.699073</td>\n",
       "      <td>0</td>\n",
       "      <td>8</td>\n",
       "      <td>1.041741e+06</td>\n",
       "    </tr>\n",
       "    <tr>\n",
       "      <th>5</th>\n",
       "      <td>3944</td>\n",
       "      <td>5</td>\n",
       "      <td>3</td>\n",
       "      <td>1990</td>\n",
       "      <td>2.475930</td>\n",
       "      <td>2</td>\n",
       "      <td>8</td>\n",
       "      <td>8.797970e+05</td>\n",
       "    </tr>\n",
       "    <tr>\n",
       "      <th>6</th>\n",
       "      <td>3671</td>\n",
       "      <td>1</td>\n",
       "      <td>2</td>\n",
       "      <td>2012</td>\n",
       "      <td>4.911960</td>\n",
       "      <td>0</td>\n",
       "      <td>1</td>\n",
       "      <td>8.144279e+05</td>\n",
       "    </tr>\n",
       "    <tr>\n",
       "      <th>7</th>\n",
       "      <td>3419</td>\n",
       "      <td>1</td>\n",
       "      <td>1</td>\n",
       "      <td>1972</td>\n",
       "      <td>2.805281</td>\n",
       "      <td>1</td>\n",
       "      <td>1</td>\n",
       "      <td>7.034131e+05</td>\n",
       "    </tr>\n",
       "    <tr>\n",
       "      <th>8</th>\n",
       "      <td>630</td>\n",
       "      <td>3</td>\n",
       "      <td>3</td>\n",
       "      <td>1997</td>\n",
       "      <td>1.014286</td>\n",
       "      <td>1</td>\n",
       "      <td>8</td>\n",
       "      <td>1.738750e+05</td>\n",
       "    </tr>\n",
       "    <tr>\n",
       "      <th>9</th>\n",
       "      <td>2185</td>\n",
       "      <td>4</td>\n",
       "      <td>2</td>\n",
       "      <td>1981</td>\n",
       "      <td>3.941604</td>\n",
       "      <td>2</td>\n",
       "      <td>5</td>\n",
       "      <td>5.041765e+05</td>\n",
       "    </tr>\n",
       "  </tbody>\n",
       "</table>\n",
       "</div>"
      ],
      "text/plain": [
       "   Square_Footage  Num_Bedrooms  Num_Bathrooms  Year_Built  Lot_Size  \\\n",
       "0            1360             2              1        1981  0.599637   \n",
       "1            4272             3              3        2016  4.753014   \n",
       "2            3592             1              2        2016  3.634823   \n",
       "3             966             1              2        1977  2.730667   \n",
       "4            4926             2              1        1993  4.699073   \n",
       "5            3944             5              3        1990  2.475930   \n",
       "6            3671             1              2        2012  4.911960   \n",
       "7            3419             1              1        1972  2.805281   \n",
       "8             630             3              3        1997  1.014286   \n",
       "9            2185             4              2        1981  3.941604   \n",
       "\n",
       "   Garage_Size  Neighborhood_Quality   House_Price  \n",
       "0            0                     5  2.623829e+05  \n",
       "1            1                     6  9.852609e+05  \n",
       "2            0                     9  7.779774e+05  \n",
       "3            1                     8  2.296989e+05  \n",
       "4            0                     8  1.041741e+06  \n",
       "5            2                     8  8.797970e+05  \n",
       "6            0                     1  8.144279e+05  \n",
       "7            1                     1  7.034131e+05  \n",
       "8            1                     8  1.738750e+05  \n",
       "9            2                     5  5.041765e+05  "
      ]
     },
     "execution_count": 6,
     "metadata": {},
     "output_type": "execute_result"
    }
   ],
   "source": [
    "df.head(10)"
   ]
  },
  {
   "cell_type": "markdown",
   "id": "9476bf4b-7f2c-4dcc-8fac-2aa7459a7f4b",
   "metadata": {},
   "source": [
    "# Выделяем целевую переменную и признаки"
   ]
  },
  {
   "cell_type": "code",
   "execution_count": 8,
   "id": "b2939771-a1c2-406e-b45e-6dfddcfcc685",
   "metadata": {},
   "outputs": [],
   "source": [
    "X = df.drop(columns=[\"House_Price\"])\n",
    "y = df[\"House_Price\"]\n"
   ]
  },
  {
   "cell_type": "code",
   "execution_count": 9,
   "id": "ee92e650-555d-421d-aa5d-0f3c738d3999",
   "metadata": {},
   "outputs": [],
   "source": [
    "scaler = StandardScaler()\n",
    "X_scaled = scaler.fit_transform(X)"
   ]
  },
  {
   "cell_type": "markdown",
   "id": "dd6f25c8-6838-4573-92af-58cc0fb52c10",
   "metadata": {},
   "source": [
    "# Инициализируем модельку и обучаем ее с базовым зкритерием остановки"
   ]
  },
  {
   "cell_type": "code",
   "execution_count": 24,
   "id": "af782fb4-77c3-4796-946b-0de90dc52e3c",
   "metadata": {},
   "outputs": [],
   "source": [
    "model = MyGradientRegressor(n_estimators=300, max_depth=3, lr=0.1, patience=15)\n",
    "model.fit(X_scaled, y)"
   ]
  },
  {
   "cell_type": "code",
   "execution_count": 25,
   "id": "e1c10e72-a80d-40f9-8b81-0b9e03ebfec3",
   "metadata": {},
   "outputs": [
    {
     "name": "stdout",
     "output_type": "stream",
     "text": [
      "MSE: 73260962.77540122\n",
      "MAE: 6437.496249723201\n",
      "Итерация остановки: 124\n"
     ]
    }
   ],
   "source": [
    "preds = model.predict(X_scaled)\n",
    "mse = mean_squared_error(y, preds)\n",
    "mae = mean_absolute_error(y, preds)\n",
    "print(f\"MSE: {mse}\")\n",
    "print(f\"MAE: {mae}\")\n",
    "print(f\"Итерация остановки: {model.best_iteration + 1}\")"
   ]
  },
  {
   "cell_type": "markdown",
   "id": "5fcdaf63-5d6f-4951-a2a6-382fc2fd35b8",
   "metadata": {},
   "source": [
    "# Проверим, что остановка работает на крайнем случае = 3"
   ]
  },
  {
   "cell_type": "code",
   "execution_count": 39,
   "id": "7063f5a7-4993-4238-bf49-2b9460287ea8",
   "metadata": {},
   "outputs": [],
   "source": [
    "model = MyGradientRegressor(n_estimators=300, max_depth=3, lr=0.1, patience=3)\n",
    "model.fit(X_scaled, y)"
   ]
  },
  {
   "cell_type": "code",
   "execution_count": 40,
   "id": "2758c979-afd7-41e0-8787-a207747c458f",
   "metadata": {},
   "outputs": [
    {
     "name": "stdout",
     "output_type": "stream",
     "text": [
      "MSE: 92297964.57362384\n",
      "MAE: 7442.164911348376\n",
      "Итерация остановки: 80\n"
     ]
    }
   ],
   "source": [
    "preds = model.predict(X_scaled)\n",
    "mse = mean_squared_error(y, preds)\n",
    "mae = mean_absolute_error(y, preds)\n",
    "print(f\"MSE: {mse}\")\n",
    "print(f\"MAE: {mae}\")\n",
    "print(f\"Итерация остановки: {model.best_iteration + 1}\")"
   ]
  },
  {
   "cell_type": "code",
   "execution_count": null,
   "id": "a95260f3-5d7a-40f7-8a99-de5f39e1693c",
   "metadata": {},
   "outputs": [],
   "source": []
  },
  {
   "cell_type": "code",
   "execution_count": null,
   "id": "38b57fb4-f60d-4283-9a6b-c4e65a91ac60",
   "metadata": {},
   "outputs": [],
   "source": []
  }
 ],
 "metadata": {
  "kernelspec": {
   "display_name": "Python 3 (ipykernel)",
   "language": "python",
   "name": "python3"
  },
  "language_info": {
   "codemirror_mode": {
    "name": "ipython",
    "version": 3
   },
   "file_extension": ".py",
   "mimetype": "text/x-python",
   "name": "python",
   "nbconvert_exporter": "python",
   "pygments_lexer": "ipython3",
   "version": "3.11.7"
  }
 },
 "nbformat": 4,
 "nbformat_minor": 5
}
